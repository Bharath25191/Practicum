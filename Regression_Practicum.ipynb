{
 "cells": [
  {
   "cell_type": "code",
   "execution_count": 14,
   "metadata": {},
   "outputs": [],
   "source": [
    "import pandas as pd \n",
    "import numpy as np\n",
    "from matplotlib import pyplot\n",
    "from sklearn.model_selection import train_test_split\n",
    "from sklearn.linear_model import LinearRegression\n",
    "%matplotlib inline"
   ]
  },
  {
   "cell_type": "code",
   "execution_count": 4,
   "metadata": {
    "collapsed": true
   },
   "outputs": [],
   "source": [
    "df = pd.read_csv(\"C:\\\\DCU\\\\Main\\\\full_datasets\\\\fact_exports_monthly_0202.csv\")"
   ]
  },
  {
   "cell_type": "code",
   "execution_count": 5,
   "metadata": {},
   "outputs": [
    {
     "data": {
      "text/html": [
       "<div>\n",
       "<style>\n",
       "    .dataframe thead tr:only-child th {\n",
       "        text-align: right;\n",
       "    }\n",
       "\n",
       "    .dataframe thead th {\n",
       "        text-align: left;\n",
       "    }\n",
       "\n",
       "    .dataframe tbody tr th {\n",
       "        vertical-align: top;\n",
       "    }\n",
       "</style>\n",
       "<table border=\"1\" class=\"dataframe\">\n",
       "  <thead>\n",
       "    <tr style=\"text-align: right;\">\n",
       "      <th></th>\n",
       "      <th>id</th>\n",
       "      <th>yearmonth</th>\n",
       "      <th>flow_desc</th>\n",
       "      <th>reporter</th>\n",
       "      <th>partner</th>\n",
       "      <th>unit_weight</th>\n",
       "      <th>product_code</th>\n",
       "      <th>product_desc</th>\n",
       "      <th>trade_weight</th>\n",
       "      <th>trade_value</th>\n",
       "      <th>source</th>\n",
       "    </tr>\n",
       "  </thead>\n",
       "  <tbody>\n",
       "    <tr>\n",
       "      <th>0</th>\n",
       "      <td>43040706</td>\n",
       "      <td>201206</td>\n",
       "      <td>export</td>\n",
       "      <td>ALBANIA</td>\n",
       "      <td>MALTA</td>\n",
       "      <td>kg</td>\n",
       "      <td>202300000</td>\n",
       "      <td>Bovine cuts boneless- frozen</td>\n",
       "      <td>25994.0</td>\n",
       "      <td>0.0</td>\n",
       "      <td>comtrade_all_trade</td>\n",
       "    </tr>\n",
       "    <tr>\n",
       "      <th>1</th>\n",
       "      <td>43040704</td>\n",
       "      <td>201206</td>\n",
       "      <td>export</td>\n",
       "      <td>ALBANIA</td>\n",
       "      <td>WORLD</td>\n",
       "      <td>kg</td>\n",
       "      <td>202300000</td>\n",
       "      <td>Bovine cuts boneless- frozen</td>\n",
       "      <td>25994.0</td>\n",
       "      <td>0.0</td>\n",
       "      <td>comtrade_all_trade</td>\n",
       "    </tr>\n",
       "    <tr>\n",
       "      <th>2</th>\n",
       "      <td>42920831</td>\n",
       "      <td>201101</td>\n",
       "      <td>export</td>\n",
       "      <td>ANTIGUA AND BARBUDA</td>\n",
       "      <td>DOMINICA</td>\n",
       "      <td>kg</td>\n",
       "      <td>202300000</td>\n",
       "      <td>Bovine cuts boneless- frozen</td>\n",
       "      <td>36.0</td>\n",
       "      <td>233.0</td>\n",
       "      <td>comtrade_all_trade</td>\n",
       "    </tr>\n",
       "    <tr>\n",
       "      <th>3</th>\n",
       "      <td>42920837</td>\n",
       "      <td>201102</td>\n",
       "      <td>export</td>\n",
       "      <td>ANTIGUA AND BARBUDA</td>\n",
       "      <td>DOMINICA</td>\n",
       "      <td>kg</td>\n",
       "      <td>202300000</td>\n",
       "      <td>Bovine cuts boneless- frozen</td>\n",
       "      <td>57.0</td>\n",
       "      <td>428.0</td>\n",
       "      <td>comtrade_all_trade</td>\n",
       "    </tr>\n",
       "    <tr>\n",
       "      <th>4</th>\n",
       "      <td>42920829</td>\n",
       "      <td>201101</td>\n",
       "      <td>export</td>\n",
       "      <td>ANTIGUA AND BARBUDA</td>\n",
       "      <td>WORLD</td>\n",
       "      <td>kg</td>\n",
       "      <td>202300000</td>\n",
       "      <td>Bovine cuts boneless- frozen</td>\n",
       "      <td>36.0</td>\n",
       "      <td>233.0</td>\n",
       "      <td>comtrade_all_trade</td>\n",
       "    </tr>\n",
       "  </tbody>\n",
       "</table>\n",
       "</div>"
      ],
      "text/plain": [
       "         id  yearmonth flow_desc             reporter   partner unit_weight  \\\n",
       "0  43040706     201206    export              ALBANIA     MALTA          kg   \n",
       "1  43040704     201206    export              ALBANIA     WORLD          kg   \n",
       "2  42920831     201101    export  ANTIGUA AND BARBUDA  DOMINICA          kg   \n",
       "3  42920837     201102    export  ANTIGUA AND BARBUDA  DOMINICA          kg   \n",
       "4  42920829     201101    export  ANTIGUA AND BARBUDA     WORLD          kg   \n",
       "\n",
       "   product_code                  product_desc  trade_weight  trade_value  \\\n",
       "0     202300000  Bovine cuts boneless- frozen       25994.0          0.0   \n",
       "1     202300000  Bovine cuts boneless- frozen       25994.0          0.0   \n",
       "2     202300000  Bovine cuts boneless- frozen          36.0        233.0   \n",
       "3     202300000  Bovine cuts boneless- frozen          57.0        428.0   \n",
       "4     202300000  Bovine cuts boneless- frozen          36.0        233.0   \n",
       "\n",
       "               source  \n",
       "0  comtrade_all_trade  \n",
       "1  comtrade_all_trade  \n",
       "2  comtrade_all_trade  \n",
       "3  comtrade_all_trade  \n",
       "4  comtrade_all_trade  "
      ]
     },
     "execution_count": 5,
     "metadata": {},
     "output_type": "execute_result"
    }
   ],
   "source": [
    "df.head()"
   ]
  },
  {
   "cell_type": "code",
   "execution_count": 6,
   "metadata": {},
   "outputs": [
    {
     "data": {
      "text/html": [
       "<div>\n",
       "<style>\n",
       "    .dataframe thead tr:only-child th {\n",
       "        text-align: right;\n",
       "    }\n",
       "\n",
       "    .dataframe thead th {\n",
       "        text-align: left;\n",
       "    }\n",
       "\n",
       "    .dataframe tbody tr th {\n",
       "        vertical-align: top;\n",
       "    }\n",
       "</style>\n",
       "<table border=\"1\" class=\"dataframe\">\n",
       "  <thead>\n",
       "    <tr style=\"text-align: right;\">\n",
       "      <th></th>\n",
       "      <th>id</th>\n",
       "      <th>yearmonth</th>\n",
       "      <th>flow_desc</th>\n",
       "      <th>reporter</th>\n",
       "      <th>partner</th>\n",
       "      <th>unit_weight</th>\n",
       "      <th>product_code</th>\n",
       "      <th>product_desc</th>\n",
       "      <th>trade_weight</th>\n",
       "      <th>trade_value</th>\n",
       "      <th>source</th>\n",
       "    </tr>\n",
       "  </thead>\n",
       "  <tbody>\n",
       "    <tr>\n",
       "      <th>0</th>\n",
       "      <td>43040706</td>\n",
       "      <td>201206</td>\n",
       "      <td>export</td>\n",
       "      <td>ALBANIA</td>\n",
       "      <td>MALTA</td>\n",
       "      <td>kg</td>\n",
       "      <td>202300000</td>\n",
       "      <td>Bovine cuts boneless- frozen</td>\n",
       "      <td>25994.0</td>\n",
       "      <td>0.0</td>\n",
       "      <td>comtrade_all_trade</td>\n",
       "    </tr>\n",
       "    <tr>\n",
       "      <th>1</th>\n",
       "      <td>43040704</td>\n",
       "      <td>201206</td>\n",
       "      <td>export</td>\n",
       "      <td>ALBANIA</td>\n",
       "      <td>WORLD</td>\n",
       "      <td>kg</td>\n",
       "      <td>202300000</td>\n",
       "      <td>Bovine cuts boneless- frozen</td>\n",
       "      <td>25994.0</td>\n",
       "      <td>0.0</td>\n",
       "      <td>comtrade_all_trade</td>\n",
       "    </tr>\n",
       "    <tr>\n",
       "      <th>2</th>\n",
       "      <td>42920831</td>\n",
       "      <td>201101</td>\n",
       "      <td>export</td>\n",
       "      <td>ANTIGUA AND BARBUDA</td>\n",
       "      <td>DOMINICA</td>\n",
       "      <td>kg</td>\n",
       "      <td>202300000</td>\n",
       "      <td>Bovine cuts boneless- frozen</td>\n",
       "      <td>36.0</td>\n",
       "      <td>233.0</td>\n",
       "      <td>comtrade_all_trade</td>\n",
       "    </tr>\n",
       "    <tr>\n",
       "      <th>3</th>\n",
       "      <td>42920837</td>\n",
       "      <td>201102</td>\n",
       "      <td>export</td>\n",
       "      <td>ANTIGUA AND BARBUDA</td>\n",
       "      <td>DOMINICA</td>\n",
       "      <td>kg</td>\n",
       "      <td>202300000</td>\n",
       "      <td>Bovine cuts boneless- frozen</td>\n",
       "      <td>57.0</td>\n",
       "      <td>428.0</td>\n",
       "      <td>comtrade_all_trade</td>\n",
       "    </tr>\n",
       "    <tr>\n",
       "      <th>4</th>\n",
       "      <td>42920829</td>\n",
       "      <td>201101</td>\n",
       "      <td>export</td>\n",
       "      <td>ANTIGUA AND BARBUDA</td>\n",
       "      <td>WORLD</td>\n",
       "      <td>kg</td>\n",
       "      <td>202300000</td>\n",
       "      <td>Bovine cuts boneless- frozen</td>\n",
       "      <td>36.0</td>\n",
       "      <td>233.0</td>\n",
       "      <td>comtrade_all_trade</td>\n",
       "    </tr>\n",
       "  </tbody>\n",
       "</table>\n",
       "</div>"
      ],
      "text/plain": [
       "         id  yearmonth flow_desc             reporter   partner unit_weight  \\\n",
       "0  43040706     201206    export              ALBANIA     MALTA          kg   \n",
       "1  43040704     201206    export              ALBANIA     WORLD          kg   \n",
       "2  42920831     201101    export  ANTIGUA AND BARBUDA  DOMINICA          kg   \n",
       "3  42920837     201102    export  ANTIGUA AND BARBUDA  DOMINICA          kg   \n",
       "4  42920829     201101    export  ANTIGUA AND BARBUDA     WORLD          kg   \n",
       "\n",
       "   product_code                  product_desc  trade_weight  trade_value  \\\n",
       "0     202300000  Bovine cuts boneless- frozen       25994.0          0.0   \n",
       "1     202300000  Bovine cuts boneless- frozen       25994.0          0.0   \n",
       "2     202300000  Bovine cuts boneless- frozen          36.0        233.0   \n",
       "3     202300000  Bovine cuts boneless- frozen          57.0        428.0   \n",
       "4     202300000  Bovine cuts boneless- frozen          36.0        233.0   \n",
       "\n",
       "               source  \n",
       "0  comtrade_all_trade  \n",
       "1  comtrade_all_trade  \n",
       "2  comtrade_all_trade  \n",
       "3  comtrade_all_trade  \n",
       "4  comtrade_all_trade  "
      ]
     },
     "execution_count": 6,
     "metadata": {},
     "output_type": "execute_result"
    }
   ],
   "source": [
    "df.trade_value = df.trade_value.fillna(np.mean(df.trade_value))\n",
    "df.head()"
   ]
  },
  {
   "cell_type": "code",
   "execution_count": 7,
   "metadata": {
    "collapsed": true
   },
   "outputs": [],
   "source": [
    "df[['str_date']] = df[['yearmonth']].applymap(str).applymap(lambda s: \"{}/{}\".format(s[:4],s[4:6]))"
   ]
  },
  {
   "cell_type": "code",
   "execution_count": 8,
   "metadata": {
    "collapsed": true
   },
   "outputs": [],
   "source": [
    "df = df.set_index(\"str_date\")"
   ]
  },
  {
   "cell_type": "code",
   "execution_count": 36,
   "metadata": {
    "collapsed": true
   },
   "outputs": [],
   "source": [
    "df[['Year']] = df[['yearmonth']].applymap(str).applymap(lambda s: \"{}\".format(s[0:4]))\n",
    "df[['Month']] = df[['yearmonth']].applymap(str).applymap(lambda s: \"{}\".format(s[4:6]))\n",
    "df = df.sort_values(by=[\"Year\",\"Month\"])\n",
    "df = df.drop(\"flow_desc\",axis=1)\n",
    "df = df.drop(\"product_desc\",axis=1)"
   ]
  },
  {
   "cell_type": "code",
   "execution_count": 42,
   "metadata": {
    "collapsed": true
   },
   "outputs": [],
   "source": [
    "df[['Year','Month']] = df[['Year','Month']].apply(pd.to_numeric)"
   ]
  },
  {
   "cell_type": "code",
   "execution_count": 35,
   "metadata": {},
   "outputs": [],
   "source": [
    "df[\"reporter\"] = df[\"reporter\"].astype('category').cat.codes\n",
    "df[\"partner\"] = df[\"partner\"].astype('category').cat.codes\n",
    "df[\"source\"] = df[\"source\"].astype('category').cat.codes\n",
    "df[\"unit_weight\"] = df[\"unit_weight\"].astype('category').cat.codes"
   ]
  },
  {
   "cell_type": "code",
   "execution_count": 43,
   "metadata": {},
   "outputs": [
    {
     "data": {
      "text/html": [
       "<div>\n",
       "<style>\n",
       "    .dataframe thead tr:only-child th {\n",
       "        text-align: right;\n",
       "    }\n",
       "\n",
       "    .dataframe thead th {\n",
       "        text-align: left;\n",
       "    }\n",
       "\n",
       "    .dataframe tbody tr th {\n",
       "        vertical-align: top;\n",
       "    }\n",
       "</style>\n",
       "<table border=\"1\" class=\"dataframe\">\n",
       "  <thead>\n",
       "    <tr style=\"text-align: right;\">\n",
       "      <th></th>\n",
       "      <th>id</th>\n",
       "      <th>yearmonth</th>\n",
       "      <th>reporter</th>\n",
       "      <th>partner</th>\n",
       "      <th>unit_weight</th>\n",
       "      <th>product_code</th>\n",
       "      <th>trade_weight</th>\n",
       "      <th>trade_value</th>\n",
       "      <th>source</th>\n",
       "      <th>Year</th>\n",
       "      <th>Month</th>\n",
       "    </tr>\n",
       "    <tr>\n",
       "      <th>str_date</th>\n",
       "      <th></th>\n",
       "      <th></th>\n",
       "      <th></th>\n",
       "      <th></th>\n",
       "      <th></th>\n",
       "      <th></th>\n",
       "      <th></th>\n",
       "      <th></th>\n",
       "      <th></th>\n",
       "      <th></th>\n",
       "      <th></th>\n",
       "    </tr>\n",
       "  </thead>\n",
       "  <tbody>\n",
       "    <tr>\n",
       "      <th>1999/01</th>\n",
       "      <td>44650101</td>\n",
       "      <td>199901</td>\n",
       "      <td>6</td>\n",
       "      <td>201</td>\n",
       "      <td>0</td>\n",
       "      <td>202309000</td>\n",
       "      <td>19500.0</td>\n",
       "      <td>16060.0</td>\n",
       "      <td>1</td>\n",
       "      <td>1999</td>\n",
       "      <td>1</td>\n",
       "    </tr>\n",
       "    <tr>\n",
       "      <th>1999/01</th>\n",
       "      <td>44648122</td>\n",
       "      <td>199901</td>\n",
       "      <td>25</td>\n",
       "      <td>112</td>\n",
       "      <td>0</td>\n",
       "      <td>202203000</td>\n",
       "      <td>5600.0</td>\n",
       "      <td>10630.0</td>\n",
       "      <td>1</td>\n",
       "      <td>1999</td>\n",
       "      <td>1</td>\n",
       "    </tr>\n",
       "    <tr>\n",
       "      <th>1999/01</th>\n",
       "      <td>44648097</td>\n",
       "      <td>199901</td>\n",
       "      <td>25</td>\n",
       "      <td>156</td>\n",
       "      <td>0</td>\n",
       "      <td>202209000</td>\n",
       "      <td>2400.0</td>\n",
       "      <td>25440.0</td>\n",
       "      <td>1</td>\n",
       "      <td>1999</td>\n",
       "      <td>1</td>\n",
       "    </tr>\n",
       "    <tr>\n",
       "      <th>1999/01</th>\n",
       "      <td>44649948</td>\n",
       "      <td>199901</td>\n",
       "      <td>34</td>\n",
       "      <td>73</td>\n",
       "      <td>0</td>\n",
       "      <td>202309000</td>\n",
       "      <td>8500.0</td>\n",
       "      <td>30730.0</td>\n",
       "      <td>1</td>\n",
       "      <td>1999</td>\n",
       "      <td>1</td>\n",
       "    </tr>\n",
       "    <tr>\n",
       "      <th>1999/01</th>\n",
       "      <td>44641913</td>\n",
       "      <td>199901</td>\n",
       "      <td>35</td>\n",
       "      <td>20</td>\n",
       "      <td>0</td>\n",
       "      <td>202309000</td>\n",
       "      <td>153900.0</td>\n",
       "      <td>310300.0</td>\n",
       "      <td>1</td>\n",
       "      <td>1999</td>\n",
       "      <td>1</td>\n",
       "    </tr>\n",
       "  </tbody>\n",
       "</table>\n",
       "</div>"
      ],
      "text/plain": [
       "                id  yearmonth  reporter  partner  unit_weight  product_code  \\\n",
       "str_date                                                                      \n",
       "1999/01   44650101     199901         6      201            0     202309000   \n",
       "1999/01   44648122     199901        25      112            0     202203000   \n",
       "1999/01   44648097     199901        25      156            0     202209000   \n",
       "1999/01   44649948     199901        34       73            0     202309000   \n",
       "1999/01   44641913     199901        35       20            0     202309000   \n",
       "\n",
       "          trade_weight  trade_value  source  Year  Month  \n",
       "str_date                                                  \n",
       "1999/01        19500.0      16060.0       1  1999      1  \n",
       "1999/01         5600.0      10630.0       1  1999      1  \n",
       "1999/01         2400.0      25440.0       1  1999      1  \n",
       "1999/01         8500.0      30730.0       1  1999      1  \n",
       "1999/01       153900.0     310300.0       1  1999      1  "
      ]
     },
     "execution_count": 43,
     "metadata": {},
     "output_type": "execute_result"
    }
   ],
   "source": [
    "df.head()"
   ]
  },
  {
   "cell_type": "code",
   "execution_count": 16,
   "metadata": {},
   "outputs": [],
   "source": [
    "#for i in df.Year.unique():\n",
    "#    df_year = df[df.Year==i]\n",
    "#    df_plot = df_year[\"trade_value\"]\n",
    "#    df_plot.plot()\n",
    "#    pyplot.show()"
   ]
  },
  {
   "cell_type": "code",
   "execution_count": 19,
   "metadata": {},
   "outputs": [],
   "source": [
    "#df_dummies =  pd.get_dummies(df, columns=[\"flow_desc\",\"reporter\",\"partner\",\"source\"])"
   ]
  },
  {
   "cell_type": "code",
   "execution_count": 23,
   "metadata": {},
   "outputs": [],
   "source": [
    "#df_dummies = df_dummies.drop(\"product_desc\",axis=1)\n",
    "#df_dummies = df_dummies.drop(\"unit_weight\",axis=1)"
   ]
  },
  {
   "cell_type": "code",
   "execution_count": 38,
   "metadata": {},
   "outputs": [],
   "source": [
    "#df_dummies.head()"
   ]
  },
  {
   "cell_type": "code",
   "execution_count": 44,
   "metadata": {
    "collapsed": true
   },
   "outputs": [],
   "source": [
    "df_corr = df.corr()"
   ]
  },
  {
   "cell_type": "code",
   "execution_count": 49,
   "metadata": {},
   "outputs": [],
   "source": [
    "df = df.dropna()"
   ]
  },
  {
   "cell_type": "code",
   "execution_count": 147,
   "metadata": {},
   "outputs": [],
   "source": [
    "y = df[\"trade_value\"]\n",
    "X = df.drop(\"trade_value\",axis=1)"
   ]
  },
  {
   "cell_type": "code",
   "execution_count": 148,
   "metadata": {},
   "outputs": [
    {
     "name": "stdout",
     "output_type": "stream",
     "text": [
      "[False  True  True  True False False False  True False  True]\n",
      "[5 1 1 1 6 4 3 1 2 1]\n"
     ]
    }
   ],
   "source": [
    "# Recursive Feature Elimination\n",
    "from sklearn import datasets\n",
    "from sklearn.feature_selection import RFE\n",
    "from sklearn.linear_model import LinearRegression\n",
    "# load the iris datasets\n",
    "#dataset = datasets.load_iris()\n",
    "# create a base classifier used to evaluate a subset of attributes\n",
    "model = LinearRegression()\n",
    "# create the RFE model and select 3 attributes\n",
    "rfe = RFE(model, 5)\n",
    "rfe = rfe.fit(X, Y)\n",
    "# summarize the selection of the attributes\n",
    "print(rfe.support_)\n",
    "print(rfe.ranking_)"
   ]
  },
  {
   "cell_type": "code",
   "execution_count": 149,
   "metadata": {},
   "outputs": [
    {
     "data": {
      "text/html": [
       "<div>\n",
       "<style>\n",
       "    .dataframe thead tr:only-child th {\n",
       "        text-align: right;\n",
       "    }\n",
       "\n",
       "    .dataframe thead th {\n",
       "        text-align: left;\n",
       "    }\n",
       "\n",
       "    .dataframe tbody tr th {\n",
       "        vertical-align: top;\n",
       "    }\n",
       "</style>\n",
       "<table border=\"1\" class=\"dataframe\">\n",
       "  <thead>\n",
       "    <tr style=\"text-align: right;\">\n",
       "      <th></th>\n",
       "      <th>id</th>\n",
       "      <th>yearmonth</th>\n",
       "      <th>reporter</th>\n",
       "      <th>partner</th>\n",
       "      <th>unit_weight</th>\n",
       "      <th>product_code</th>\n",
       "      <th>trade_weight</th>\n",
       "      <th>trade_value</th>\n",
       "      <th>source</th>\n",
       "      <th>Year</th>\n",
       "      <th>Month</th>\n",
       "    </tr>\n",
       "    <tr>\n",
       "      <th>str_date</th>\n",
       "      <th></th>\n",
       "      <th></th>\n",
       "      <th></th>\n",
       "      <th></th>\n",
       "      <th></th>\n",
       "      <th></th>\n",
       "      <th></th>\n",
       "      <th></th>\n",
       "      <th></th>\n",
       "      <th></th>\n",
       "      <th></th>\n",
       "    </tr>\n",
       "  </thead>\n",
       "  <tbody>\n",
       "    <tr>\n",
       "      <th>1999/01</th>\n",
       "      <td>44650101</td>\n",
       "      <td>199901</td>\n",
       "      <td>6</td>\n",
       "      <td>201</td>\n",
       "      <td>0</td>\n",
       "      <td>202309000</td>\n",
       "      <td>19500.0</td>\n",
       "      <td>16060.0</td>\n",
       "      <td>1</td>\n",
       "      <td>1999</td>\n",
       "      <td>1</td>\n",
       "    </tr>\n",
       "    <tr>\n",
       "      <th>1999/01</th>\n",
       "      <td>44648122</td>\n",
       "      <td>199901</td>\n",
       "      <td>25</td>\n",
       "      <td>112</td>\n",
       "      <td>0</td>\n",
       "      <td>202203000</td>\n",
       "      <td>5600.0</td>\n",
       "      <td>10630.0</td>\n",
       "      <td>1</td>\n",
       "      <td>1999</td>\n",
       "      <td>1</td>\n",
       "    </tr>\n",
       "    <tr>\n",
       "      <th>1999/01</th>\n",
       "      <td>44648097</td>\n",
       "      <td>199901</td>\n",
       "      <td>25</td>\n",
       "      <td>156</td>\n",
       "      <td>0</td>\n",
       "      <td>202209000</td>\n",
       "      <td>2400.0</td>\n",
       "      <td>25440.0</td>\n",
       "      <td>1</td>\n",
       "      <td>1999</td>\n",
       "      <td>1</td>\n",
       "    </tr>\n",
       "    <tr>\n",
       "      <th>1999/01</th>\n",
       "      <td>44649948</td>\n",
       "      <td>199901</td>\n",
       "      <td>34</td>\n",
       "      <td>73</td>\n",
       "      <td>0</td>\n",
       "      <td>202309000</td>\n",
       "      <td>8500.0</td>\n",
       "      <td>30730.0</td>\n",
       "      <td>1</td>\n",
       "      <td>1999</td>\n",
       "      <td>1</td>\n",
       "    </tr>\n",
       "    <tr>\n",
       "      <th>1999/01</th>\n",
       "      <td>44641913</td>\n",
       "      <td>199901</td>\n",
       "      <td>35</td>\n",
       "      <td>20</td>\n",
       "      <td>0</td>\n",
       "      <td>202309000</td>\n",
       "      <td>153900.0</td>\n",
       "      <td>310300.0</td>\n",
       "      <td>1</td>\n",
       "      <td>1999</td>\n",
       "      <td>1</td>\n",
       "    </tr>\n",
       "  </tbody>\n",
       "</table>\n",
       "</div>"
      ],
      "text/plain": [
       "                id  yearmonth  reporter  partner  unit_weight  product_code  \\\n",
       "str_date                                                                      \n",
       "1999/01   44650101     199901         6      201            0     202309000   \n",
       "1999/01   44648122     199901        25      112            0     202203000   \n",
       "1999/01   44648097     199901        25      156            0     202209000   \n",
       "1999/01   44649948     199901        34       73            0     202309000   \n",
       "1999/01   44641913     199901        35       20            0     202309000   \n",
       "\n",
       "          trade_weight  trade_value  source  Year  Month  \n",
       "str_date                                                  \n",
       "1999/01        19500.0      16060.0       1  1999      1  \n",
       "1999/01         5600.0      10630.0       1  1999      1  \n",
       "1999/01         2400.0      25440.0       1  1999      1  \n",
       "1999/01         8500.0      30730.0       1  1999      1  \n",
       "1999/01       153900.0     310300.0       1  1999      1  "
      ]
     },
     "execution_count": 149,
     "metadata": {},
     "output_type": "execute_result"
    }
   ],
   "source": [
    "df.head()"
   ]
  },
  {
   "cell_type": "code",
   "execution_count": 150,
   "metadata": {
    "collapsed": true
   },
   "outputs": [],
   "source": [
    "from sklearn.preprocessing import StandardScaler"
   ]
  },
  {
   "cell_type": "code",
   "execution_count": 151,
   "metadata": {},
   "outputs": [],
   "source": [
    "X = X[[\"product_code\",\"yearmonth\",\"reporter\",\"partner\",\"trade_weight\"]]"
   ]
  },
  {
   "cell_type": "code",
   "execution_count": 152,
   "metadata": {
    "collapsed": true
   },
   "outputs": [],
   "source": [
    "X_scaler = StandardScaler()\n",
    "y_scaler = StandardScaler()"
   ]
  },
  {
   "cell_type": "code",
   "execution_count": 153,
   "metadata": {
    "collapsed": true
   },
   "outputs": [],
   "source": [
    "X_train,X_test,y_train,y_test = train_test_split(X,y,test_size=0.2)"
   ]
  },
  {
   "cell_type": "code",
   "execution_count": 154,
   "metadata": {},
   "outputs": [
    {
     "name": "stderr",
     "output_type": "stream",
     "text": [
      "C:\\Users\\bhara\\Anaconda3\\lib\\site-packages\\sklearn\\preprocessing\\data.py:586: DeprecationWarning: Passing 1d arrays as data is deprecated in 0.17 and will raise ValueError in 0.19. Reshape your data either using X.reshape(-1, 1) if your data has a single feature or X.reshape(1, -1) if it contains a single sample.\n",
      "  warnings.warn(DEPRECATION_MSG_1D, DeprecationWarning)\n",
      "C:\\Users\\bhara\\Anaconda3\\lib\\site-packages\\sklearn\\preprocessing\\data.py:649: DeprecationWarning: Passing 1d arrays as data is deprecated in 0.17 and will raise ValueError in 0.19. Reshape your data either using X.reshape(-1, 1) if your data has a single feature or X.reshape(1, -1) if it contains a single sample.\n",
      "  warnings.warn(DEPRECATION_MSG_1D, DeprecationWarning)\n",
      "C:\\Users\\bhara\\Anaconda3\\lib\\site-packages\\sklearn\\preprocessing\\data.py:586: DeprecationWarning: Passing 1d arrays as data is deprecated in 0.17 and will raise ValueError in 0.19. Reshape your data either using X.reshape(-1, 1) if your data has a single feature or X.reshape(1, -1) if it contains a single sample.\n",
      "  warnings.warn(DEPRECATION_MSG_1D, DeprecationWarning)\n",
      "C:\\Users\\bhara\\Anaconda3\\lib\\site-packages\\sklearn\\preprocessing\\data.py:649: DeprecationWarning: Passing 1d arrays as data is deprecated in 0.17 and will raise ValueError in 0.19. Reshape your data either using X.reshape(-1, 1) if your data has a single feature or X.reshape(1, -1) if it contains a single sample.\n",
      "  warnings.warn(DEPRECATION_MSG_1D, DeprecationWarning)\n"
     ]
    }
   ],
   "source": [
    "X_train = X_scaler.fit_transform(X_train)\n",
    "X_test = X_scaler.fit_transform(X_test)\n",
    "y_train = y_scaler.fit_transform(y_train)\n",
    "y_test = y_scaler.fit_transform(y_test)"
   ]
  },
  {
   "cell_type": "code",
   "execution_count": 155,
   "metadata": {},
   "outputs": [
    {
     "data": {
      "text/plain": [
       "LinearRegression(copy_X=True, fit_intercept=True, n_jobs=1, normalize=False)"
      ]
     },
     "execution_count": 155,
     "metadata": {},
     "output_type": "execute_result"
    }
   ],
   "source": [
    "model.fit(X_train,y_train)"
   ]
  },
  {
   "cell_type": "code",
   "execution_count": 156,
   "metadata": {},
   "outputs": [],
   "source": [
    "pred = model.predict(X_test)"
   ]
  },
  {
   "cell_type": "code",
   "execution_count": 187,
   "metadata": {},
   "outputs": [],
   "source": [
    "from sklearn.metrics import r2_score  \n",
    "from sklearn.metrics import mean_squared_error\n",
    "mean_sqr = mean_squared_error(y_test,pred)\n",
    "score = r2_score(y_test,pred)"
   ]
  },
  {
   "cell_type": "code",
   "execution_count": 159,
   "metadata": {},
   "outputs": [
    {
     "data": {
      "text/plain": [
       "[<matplotlib.lines.Line2D at 0x192e33bd3c8>]"
      ]
     },
     "execution_count": 159,
     "metadata": {},
     "output_type": "execute_result"
    },
    {
     "data": {
      "image/png": "[encoded data removed]",
      "text/plain": [
       "<matplotlib.figure.Figure at 0x192e9e92588>"
      ]
     },
     "metadata": {},
     "output_type": "display_data"
    }
   ],
   "source": [
    "pyplot.plot(pred)"
   ]
  },
  {
   "cell_type": "code",
   "execution_count": 122,
   "metadata": {},
   "outputs": [
    {
     "data": {
      "text/plain": [
       "[<matplotlib.lines.Line2D at 0x192daa8f0f0>]"
      ]
     },
     "execution_count": 122,
     "metadata": {},
     "output_type": "execute_result"
    },
    {
     "data": {
      "image/png": "[encoded data removed]",
      "text/plain": [
       "<matplotlib.figure.Figure at 0x192d9e13cf8>"
      ]
     },
     "metadata": {},
     "output_type": "display_data"
    }
   ],
   "source": [
    "pyplot.plot(y_test)"
   ]
  },
  {
   "cell_type": "code",
   "execution_count": 160,
   "metadata": {},
   "outputs": [
    {
     "data": {
      "text/plain": [
       "[<matplotlib.lines.Line2D at 0x192e9c41668>]"
      ]
     },
     "execution_count": 160,
     "metadata": {},
     "output_type": "execute_result"
    },
    {
     "data": {
      "image/png": "[encoded data removed]",
      "text/plain": [
       "<matplotlib.figure.Figure at 0x192e33d76d8>"
      ]
     },
     "metadata": {},
     "output_type": "display_data"
    }
   ],
   "source": [
    "detrended = [y_test[j]-pred[j] for j in range(0, len(pred))]\n",
    "pyplot.plot(detrended)"
   ]
  },
  {
   "cell_type": "code",
   "execution_count": 183,
   "metadata": {
    "collapsed": true
   },
   "outputs": [],
   "source": [
    "def outlierCleaner(predictions, X_train, y_train):\n",
    "    \"\"\"\n",
    "        Clean away the 10% of points that have the largest\n",
    "        residual errors (difference between the prediction\n",
    "        and the actual net worth).\n",
    "        Return a list of tuples named cleaned_data where \n",
    "        each tuple is of the form (age, net_worth, error).\n",
    "    \"\"\"\n",
    "    \n",
    "    error = list( (y_train - predictions)**2 )\n",
    "\n",
    "    cleaned_data = zip(X_train, y_train, error)\n",
    "    cleaned_data = sorted(cleaned_data, key = lambda tup: tup[2])\n",
    "    result = int(len(cleaned_data)*0.95)\n",
    "    cleaned = cleaned_data[:result]\n",
    "    anomalies = cleaned_data[result:]\n",
    "\n",
    "    ### your code goes here\n",
    "\n",
    "    \n",
    "    return cleaned,anomalies\n"
   ]
  },
  {
   "cell_type": "code",
   "execution_count": 184,
   "metadata": {},
   "outputs": [],
   "source": [
    "predictions = model.predict(X_train)\n",
    "cleaned_data,anomalies = outlierCleaner( predictions, X_train, y_train )"
   ]
  },
  {
   "cell_type": "code",
   "execution_count": 190,
   "metadata": {
    "collapsed": true
   },
   "outputs": [],
   "source": [
    "X, y, errors = zip(*cleaned_data)"
   ]
  },
  {
   "cell_type": "code",
   "execution_count": 192,
   "metadata": {
    "collapsed": true
   },
   "outputs": [],
   "source": [
    "X_train,X_test,y_train,y_test = train_test_split(X,y,test_size=0.2)"
   ]
  },
  {
   "cell_type": "code",
   "execution_count": 195,
   "metadata": {},
   "outputs": [
    {
     "data": {
      "text/plain": [
       "[<matplotlib.lines.Line2D at 0x192ea1fd4a8>]"
      ]
     },
     "execution_count": 195,
     "metadata": {},
     "output_type": "execute_result"
    },
    {
     "data": {
      "image/png": "[encoded data removed]",
      "text/plain": [
       "<matplotlib.figure.Figure at 0x192df99cf98>"
      ]
     },
     "metadata": {},
     "output_type": "display_data"
    }
   ],
   "source": [
    "model.fit(X_train,y_train)\n",
    "pred = model.predict(X_test)\n",
    "\n",
    "pyplot.plot(pred)"
   ]
  },
  {
   "cell_type": "code",
   "execution_count": 194,
   "metadata": {},
   "outputs": [
    {
     "data": {
      "text/plain": [
       "[<matplotlib.lines.Line2D at 0x192df9ab5c0>]"
      ]
     },
     "execution_count": 194,
     "metadata": {},
     "output_type": "execute_result"
    },
    {
     "data": {
      "image/png": "[encoded data removed]",
      "text/plain": [
       "<matplotlib.figure.Figure at 0x192e26522e8>"
      ]
     },
     "metadata": {},
     "output_type": "display_data"
    }
   ],
   "source": [
    "pyplot.plot(y_test)"
   ]
  },
  {
   "cell_type": "code",
   "execution_count": 196,
   "metadata": {},
   "outputs": [
    {
     "data": {
      "text/plain": [
       "[<matplotlib.lines.Line2D at 0x192e9ced2e8>]"
      ]
     },
     "execution_count": 196,
     "metadata": {},
     "output_type": "execute_result"
    },
    {
     "data": {
      "image/png": "[encoded data removed]",
      "text/plain": [
       "<matplotlib.figure.Figure at 0x192e3457cc0>"
      ]
     },
     "metadata": {},
     "output_type": "display_data"
    }
   ],
   "source": [
    "detrended = [y_test[j]-pred[j] for j in range(0, len(pred))]\n",
    "pyplot.plot(detrended)"
   ]
  },
  {
   "cell_type": "code",
   "execution_count": 188,
   "metadata": {},
   "outputs": [
    {
     "name": "stdout",
     "output_type": "stream",
     "text": [
      "0.949383325033\n",
      "0.0506166749671\n"
     ]
    }
   ],
   "source": [
    "print(score)\n",
    "print(mean_sqr)"
   ]
  },
  {
   "cell_type": "code",
   "execution_count": 197,
   "metadata": {},
   "outputs": [
    {
     "name": "stdout",
     "output_type": "stream",
     "text": [
      "0.986592719174\n"
     ]
    }
   ],
   "source": [
    "if len(cleaned_data) > 0:\n",
    "    X, y, errors = zip(*cleaned_data)\n",
    "    try:\n",
    "        model.fit(X, y)\n",
    "        #pyplot.plot(X, model.predict(X), color=\"blue\")\n",
    "    except NameError:\n",
    "        print(\"Error\")\n",
    "    #print(model.coef_)\n",
    "    print(model.score(X_test, y_test))\n",
    "\n",
    "else:\n",
    "    print(\"outlierCleaner() is returning an empty list, no refitting to be done\")"
   ]
  },
  {
   "cell_type": "code",
   "execution_count": 200,
   "metadata": {},
   "outputs": [],
   "source": [
    "cleaned_data,anomalies = outlierCleaner( model.predict(X_train), X_train, y_train )"
   ]
  },
  {
   "cell_type": "code",
   "execution_count": null,
   "metadata": {
    "collapsed": true
   },
   "outputs": [],
   "source": []
  },
  {
   "cell_type": "code",
   "execution_count": 203,
   "metadata": {},
   "outputs": [
    {
     "name": "stdout",
     "output_type": "stream",
     "text": [
      "0.994776421022\n"
     ]
    },
    {
     "data": {
      "image/png": "[encoded data removed]",
      "text/plain": [
       "<matplotlib.figure.Figure at 0x192da70d390>"
      ]
     },
     "metadata": {},
     "output_type": "display_data"
    }
   ],
   "source": [
    "if len(cleaned_data) > 0:\n",
    "    X, y, errors = zip(*cleaned_data)\n",
    "    X_train,X_test,y_train,y_test = train_test_split(X,y,test_size=0.2)\n",
    "    model.fit(X_train,y_train)\n",
    "    pred = model.predict(X_test)\n",
    "    detrended = [y_test[j]-pred[j] for j in range(0, len(pred))]\n",
    "    pyplot.plot(detrended)\n",
    "    try:\n",
    "        model.fit(X_train, y_train)\n",
    "        #pyplot.plot(X, model.predict(X), color=\"blue\")\n",
    "    except NameError:\n",
    "        print(\"Error\")\n",
    "    #print(model.coef_)\n",
    "    print(model.score(X_test, y_test))\n",
    "\n",
    "else:\n",
    "    print(\"outlierCleaner() is returning an empty list, no refitting to be done\")"
   ]
  }
 ],
 "metadata": {
  "kernelspec": {
   "display_name": "Python 3",
   "language": "python",
   "name": "python3"
  },
  "language_info": {
   "codemirror_mode": {
    "name": "ipython",
    "version": 3
   },
   "file_extension": ".py",
   "mimetype": "text/x-python",
   "name": "python",
   "nbconvert_exporter": "python",
   "pygments_lexer": "ipython3",
   "version": "3.6.1"
  }
 },
 "nbformat": 4,
 "nbformat_minor": 2
}
