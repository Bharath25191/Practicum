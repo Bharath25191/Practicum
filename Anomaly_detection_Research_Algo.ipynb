{
 "cells": [
  {
   "cell_type": "code",
   "execution_count": 1,
   "metadata": {
    "collapsed": true
   },
   "outputs": [],
   "source": [
    "import numpy as np \n",
    "import pandas as pd"
   ]
  },
  {
   "cell_type": "code",
   "execution_count": 33,
   "metadata": {
    "collapsed": true
   },
   "outputs": [],
   "source": [
    "def anomaly_detector1(feature,Z=3):\n",
    "    results = []\n",
    "    X= np.sort(feature)\n",
    "    X_mean = np.mean(X)\n",
    "    X_std = np.std(X)\n",
    "    X_upper = X_mean + X_std*Z\n",
    "    X_lower = X_mean - X_std*Z\n",
    "    for i in feature:\n",
    "        if X_upper < i or X_lower > i:\n",
    "            results.append(\"Outlier\")\n",
    "        else:\n",
    "            results.append(\"Standard\")\n",
    "    return results"
   ]
  },
  {
   "cell_type": "code",
   "execution_count": 34,
   "metadata": {
    "collapsed": true
   },
   "outputs": [],
   "source": [
    "def anomaly_detector2(feature,Z=3):\n",
    "    results = []\n",
    "    diff_X = []\n",
    "    X= np.sort(feature)\n",
    "    for i in range(len(feature)):\n",
    "        if i ==0:\n",
    "            value = feature[i]\n",
    "        else:\n",
    "            value = feature[i] - feature[i-1]\n",
    "        diff_X.append(value)\n",
    "    X_mean = np.mean(diff_X)\n",
    "    X_std = np.std(diff_X)\n",
    "    X_upper = X_mean + X_std*Z\n",
    "    X_lower = X_mean - X_std*Z\n",
    "    for i in diff_X:\n",
    "        if X_upper < i or X_lower > i:\n",
    "            results.append(\"Outlier\")\n",
    "        else:\n",
    "            results.append(\"Standard\")\n",
    "    return results"
   ]
  },
  {
   "cell_type": "code",
   "execution_count": 35,
   "metadata": {
    "collapsed": true
   },
   "outputs": [],
   "source": [
    "def anomaly_detector3(feature,Z=3):\n",
    "    results = []\n",
    "    diff_X = []\n",
    "    X= np.sort(feature)\n",
    "    for i in range(len(feature)):\n",
    "        if i ==0:\n",
    "            value = feature[i]\n",
    "        else:\n",
    "            value = feature[i] - feature[i-1]\n",
    "        diff_X.append(value)\n",
    "    X_mean = np.mean(diff_X)\n",
    "    X_std = np.std(diff_X)\n",
    "    X_upper = X_mean + X_std*Z\n",
    "    X_lower = X_mean - X_std*Z\n",
    "    for i in range(len(diff_X)):\n",
    "        if X_upper < diff_X[i] or X_lower > diff_X[i]:\n",
    "            if X_upper < diff_X[i] and X_lower > (diff_X[i+1]-diff_X[i]):\n",
    "                results.append(\"Mistake\")\n",
    "            elif X_lower > diff_X[i] and X_upper < (diff_X[i+1]-diff_X[i]):\n",
    "                results.append(\"Mistake\")\n",
    "            else:\n",
    "                results.append(\"Event\")\n",
    "        else:\n",
    "            results.append(\"Standard\")\n",
    "    return results"
   ]
  },
  {
   "cell_type": "code",
   "execution_count": 27,
   "metadata": {},
   "outputs": [],
   "source": [
    "df_fact = pd.read_csv(\"C:\\\\DCU\\\\Main\\\\full_datasets\\\\fact_price_weekly_cheese.csv\")"
   ]
  },
  {
   "cell_type": "code",
   "execution_count": 36,
   "metadata": {
    "collapsed": true
   },
   "outputs": [],
   "source": [
    "df_fact[\"curr_value\"] = df_fact.curr_value.fillna(np.mean(df_fact.curr_value))"
   ]
  },
  {
   "cell_type": "code",
   "execution_count": 38,
   "metadata": {},
   "outputs": [],
   "source": [
    "df_fact[\"Anomaly_Detector_1\"] = anomaly_detector1(df_fact[\"curr_value\"])\n",
    "df_fact[\"Anomaly_Detector_2\"] = anomaly_detector2(df_fact[\"curr_value\"])\n",
    "df_fact[\"Anomaly_Detector_3\"] = anomaly_detector3(df_fact[\"curr_value\"])"
   ]
  },
  {
   "cell_type": "code",
   "execution_count": 41,
   "metadata": {},
   "outputs": [
    {
     "data": {
      "text/plain": [
       "array(['Standard', 'Outlier'], dtype=object)"
      ]
     },
     "execution_count": 41,
     "metadata": {},
     "output_type": "execute_result"
    }
   ],
   "source": [
    "df_fact.Anomaly_Detector_1.unique()"
   ]
  }
 ],
 "metadata": {
  "kernelspec": {
   "display_name": "Python 3",
   "language": "python",
   "name": "python3"
  },
  "language_info": {
   "codemirror_mode": {
    "name": "ipython",
    "version": 3
   },
   "file_extension": ".py",
   "mimetype": "text/x-python",
   "name": "python",
   "nbconvert_exporter": "python",
   "pygments_lexer": "ipython3",
   "version": "3.6.1"
  }
 },
 "nbformat": 4,
 "nbformat_minor": 2
}
