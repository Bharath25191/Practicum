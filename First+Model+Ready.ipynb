{
 "cells": [
  {
   "cell_type": "code",
   "execution_count": 160,
   "metadata": {},
   "outputs": [],
   "source": [
    "# The following two commands remove any previously installed H2O packages for R.\n",
    "#if (\"package:h2o\" %in% search()) { detach(\"package:h2o\", unload=TRUE) }\n",
    "#if (\"h2o\" %in% rownames(installed.packages())) { remove.packages(\"h2o\") }\n",
    "# Let's download packages that H2O depends on.\n",
    "#if (! (\"methods\" %in% rownames(installed.packages()))) { install.packages(\"methods\") }\n",
    "#if (! (\"statmod\" %in% rownames(installed.packages()))) { install.packages(\"statmod\") }\n",
    "#if (! (\"stats\" %in% rownames(installed.packages()))) { install.packages(\"stats\") }\n",
    "#if (! (\"graphics\" %in% rownames(installed.packages()))) { install.packages(\"graphics\") }\n",
    "#if (! (\"RCurl\" %in% rownames(installed.packages()))) { install.packages(\"RCurl\") }\n",
    "#if (! (\"jsonlite\" %in% rownames(installed.packages()))) { install.packages(\"jsonlite\") }\n",
    "#if (! (\"tools\" %in% rownames(installed.packages()))) { install.packages(\"tools\") }\n",
    "#if (! (\"utils\" %in% rownames(installed.packages()))) { install.packages(\"utils\") }\n",
    "# Download, install and initialize the H2O package for R.\n",
    "#install.packages(\"h2o\", type=\"source\", \n",
    "#                 repos=(c(\"http://h2o-release.s3.amazonaws.com/h2o/rel-turing/10/R\")))\n",
    "# Test, if the H2O library is installed properly\n",
    "#suppressPackageStartupMessages(library(h2o))\n",
    "#h2o.init(nthreads = -1)\n",
    "# Finally, let's run a demo on K-means clustering to see H2O at work.\n",
    "#demo(h2o.kmeans)"
   ]
  },
  {
   "cell_type": "code",
   "execution_count": 2,
   "metadata": {},
   "outputs": [
    {
     "name": "stdout",
     "output_type": "stream",
     "text": [
      " Connection successful!\n",
      "\n",
      "R is connected to the H2O cluster: \n",
      "    H2O cluster uptime:         12 seconds 33 milliseconds \n",
      "    H2O cluster version:        3.10.0.10 \n",
      "    H2O cluster version age:    8 months and 13 days !!! \n",
      "    H2O cluster name:           H2O_started_from_R_bhara_cql266 \n",
      "    H2O cluster total nodes:    1 \n",
      "    H2O cluster total memory:   1.74 GB \n",
      "    H2O cluster total cores:    4 \n",
      "    H2O cluster allowed cores:  4 \n",
      "    H2O cluster healthy:        TRUE \n",
      "    H2O Connection ip:          localhost \n",
      "    H2O Connection port:        54321 \n",
      "    H2O Connection proxy:       NA \n",
      "    R Version:                  R version 3.3.2 (2016-10-31) \n"
     ]
    },
    {
     "name": "stderr",
     "output_type": "stream",
     "text": [
      "Warning message in h2o.clusterInfo():\n",
      "\"\n",
      "Your H2O cluster version is too old (8 months and 13 days)!\n",
      "Please download and install the latest version from http://h2o.ai/download/\""
     ]
    },
    {
     "name": "stdout",
     "output_type": "stream",
     "text": [
      "\n"
     ]
    }
   ],
   "source": [
    "library(h2o)\n",
    "h2o.init()"
   ]
  },
  {
   "cell_type": "code",
   "execution_count": 95,
   "metadata": {},
   "outputs": [
    {
     "name": "stderr",
     "output_type": "stream",
     "text": [
      "Warning message in as.numeric(mtcar$price):\n",
      "\"NAs introduced by coercion\""
     ]
    },
    {
     "name": "stdout",
     "output_type": "stream",
     "text": [
      "\r",
      "  |                                                                            \r",
      "  |                                                                      |   0%\r",
      "  |                                                                            \r",
      "  |======================================================================| 100%\n"
     ]
    }
   ],
   "source": [
    "mtcar <- read.csv(\"C:\\\\DCU\\\\Main\\\\full_datasets\\\\fact_price_monthly_dairy.csv\",header=T,stringsAsFactors=FALSE)\n",
    "mtcar$geo <- as.factor(mtcar$geo)  \n",
    "mtcar$unit <- as.factor(mtcar$unit) \n",
    "mtcar$product <- as.factor(mtcar$product)  \n",
    "mtcar$source  <- as.factor(mtcar$source)  \n",
    "mtcar$price  <- as.numeric(mtcar$price)\n",
    "mtcar$price[is.na(mtcar$price)] = mean(mtcar$price, na.rm=TRUE)\n",
    "mtcar$price <-as.numeric(mtcar$price)\n",
    "mtcar.hex  <- as.h2o(mtcar)"
   ]
  },
  {
   "cell_type": "code",
   "execution_count": 122,
   "metadata": {},
   "outputs": [
    {
     "data": {
      "text/plain": [
       "      id yearmonth   geo   unit product    price           source\n",
       "1 291650    201712 CHINA EUR/kg    milk 1.448498 clal_dairy_price\n",
       "2 291649    201711 CHINA EUR/kg    milk 1.448498 clal_dairy_price\n",
       "3 291648    201710 CHINA EUR/kg    milk 1.448498 clal_dairy_price\n",
       "4 291647    201709 CHINA EUR/kg    milk 1.448498 clal_dairy_price\n",
       "5 291646    201708 CHINA EUR/kg    milk 1.448498 clal_dairy_price\n",
       "6 291645    201707 CHINA EUR/kg    milk 1.448498 clal_dairy_price\n",
       "\n",
       "[6530 rows x 7 columns] "
      ]
     },
     "metadata": {},
     "output_type": "display_data"
    }
   ],
   "source": [
    "mtcar.hex"
   ]
  },
  {
   "cell_type": "code",
   "execution_count": 104,
   "metadata": {},
   "outputs": [
    {
     "name": "stdout",
     "output_type": "stream",
     "text": [
      "\r",
      "  |                                                                            \r",
      "  |                                                                      |   0%\r",
      "  |                                                                            \r",
      "  |==============                                                        |  20%\r",
      "  |                                                                            \r",
      "  |=====================                                                 |  30%\r",
      "  |                                                                            \r",
      "  |============================                                          |  40%\r",
      "  |                                                                            \r",
      "  |===================================                                   |  50%\r",
      "  |                                                                            \r",
      "  |==========================================                            |  60%\r",
      "  |                                                                            \r",
      "  |=================================================                     |  70%\r",
      "  |                                                                            \r",
      "  |========================================================              |  80%\r",
      "  |                                                                            \r",
      "  |===============================================================       |  90%\r",
      "  |                                                                            \r",
      "  |======================================================================| 100%\n"
     ]
    }
   ],
   "source": [
    "mtcar.dl = h2o.deeplearning(x = 1:7, training_frame = mtcar.hex, autoencoder = TRUE,activation=\"Tanh\",\n",
    "                            hidden = c(50, 50, 50), epochs = 100,seed=1)"
   ]
  },
  {
   "cell_type": "code",
   "execution_count": 105,
   "metadata": {},
   "outputs": [],
   "source": [
    "errors <- h2o.anomaly(mtcar.dl, mtcar.hex, per_feature = TRUE)"
   ]
  },
  {
   "cell_type": "code",
   "execution_count": 107,
   "metadata": {},
   "outputs": [],
   "source": [
    "anomalies <- as.data.frame(errors)"
   ]
  },
  {
   "cell_type": "code",
   "execution_count": 156,
   "metadata": {
    "collapsed": true
   },
   "outputs": [],
   "source": [
    "quantile  = h2o.quantile(errors$reconstr_price.SE)\n",
    "threshold = quantile[\"99%\"]\n",
    "#print(threshold)\n",
    "#plot(anomalies$reconstr_price.SE)\n",
    "#abline(h=threshold)"
   ]
  },
  {
   "cell_type": "code",
   "execution_count": 157,
   "metadata": {
    "scrolled": false
   },
   "outputs": [
    {
     "data": {},
     "metadata": {},
     "output_type": "display_data"
    },
    {
     "data": {
      "image/png": "[encoded data removed]",
      "text/plain": [
       "plot without title"
      ]
     },
     "metadata": {},
     "output_type": "display_data"
    }
   ],
   "source": [
    "library(ggplot2)\n",
    "anomalies$ID <- seq.int(nrow(anomalies))\n",
    "a <- ggplot(anomalies, aes(x=ID,y=reconstr_price.SE, color=ifelse((reconstr_price.SE> threshold),\"blue\", \"red\")))+\n",
    "    geom_point()+\n",
    "    geom_hline(yintercept=threshold, linetype=\"dashed\", color = \"black\")\n",
    "\n",
    "a + theme(legend.position=\"none\")"
   ]
  },
  {
   "cell_type": "code",
   "execution_count": 158,
   "metadata": {},
   "outputs": [],
   "source": [
    "row_outliers <- which(anomalies$reconstr_price.SE > threshold) # based on plot above\n",
    "anomalous_instances <- mtcar[row_outliers,]"
   ]
  },
  {
   "cell_type": "code",
   "execution_count": 159,
   "metadata": {},
   "outputs": [
    {
     "data": {
      "text/html": [
       "<table>\n",
       "<thead><tr><th></th><th scope=col>id</th><th scope=col>yearmonth</th><th scope=col>geo</th><th scope=col>unit</th><th scope=col>product</th><th scope=col>price</th><th scope=col>source</th></tr></thead>\n",
       "<tbody>\n",
       "\t<tr><th scope=row>2248</th><td>272942                                    </td><td>201304                                    </td><td>OCEANIA                                   </td><td>USD/kg                                    </td><td>SMP                                       </td><td>5.3938000                                 </td><td>dairyco_world_price                       </td></tr>\n",
       "\t<tr><th scope=row>2980</th><td>272210                                    </td><td>200709                                    </td><td>EU                                        </td><td>USD/kg                                    </td><td>WMP                                       </td><td>5.6000000                                 </td><td>dairyco_world_price                       </td></tr>\n",
       "\t<tr><th scope=row>2992</th><td>272198                                    </td><td>200708                                    </td><td>EU                                        </td><td>USD/kg                                    </td><td>SMP                                       </td><td>5.3167000                                 </td><td>dairyco_world_price                       </td></tr>\n",
       "\t<tr><th scope=row>3002</th><td>272188                                    </td><td>200707                                    </td><td>EU                                        </td><td>USD/kg                                    </td><td>WMP                                       </td><td>5.4500000                                 </td><td>dairyco_world_price                       </td></tr>\n",
       "\t<tr><th scope=row>5662</th><td> 27745                                    </td><td>198012                                    </td><td>UNITED STATES                             </td><td>USD/kg                                    </td><td>MILK - PRICE RECEIVED- MEASURED IN $ / CWT</td><td>0.2775465                                 </td><td>usda_dairy_quickstats                     </td></tr>\n",
       "\t<tr><th scope=row>5663</th><td> 27744                                    </td><td>198011                                    </td><td>UNITED STATES                             </td><td>USD/kg                                    </td><td>MILK - PRICE RECEIVED- MEASURED IN $ / CWT</td><td>0.2755781                                 </td><td>usda_dairy_quickstats                     </td></tr>\n",
       "</tbody>\n",
       "</table>\n"
      ],
      "text/latex": [
       "\\begin{tabular}{r|lllllll}\n",
       "  & id & yearmonth & geo & unit & product & price & source\\\\\n",
       "\\hline\n",
       "\t2248 & 272942                                     & 201304                                     & OCEANIA                                    & USD/kg                                     & SMP                                        & 5.3938000                                  & dairyco\\_world\\_price                   \\\\\n",
       "\t2980 & 272210                                     & 200709                                     & EU                                         & USD/kg                                     & WMP                                        & 5.6000000                                  & dairyco\\_world\\_price                   \\\\\n",
       "\t2992 & 272198                                     & 200708                                     & EU                                         & USD/kg                                     & SMP                                        & 5.3167000                                  & dairyco\\_world\\_price                   \\\\\n",
       "\t3002 & 272188                                     & 200707                                     & EU                                         & USD/kg                                     & WMP                                        & 5.4500000                                  & dairyco\\_world\\_price                   \\\\\n",
       "\t5662 &  27745                                       & 198012                                       & UNITED STATES                                & USD/kg                                       & MILK - PRICE RECEIVED- MEASURED IN \\$ / CWT & 0.2775465                                    & usda\\_dairy\\_quickstats                   \\\\\n",
       "\t5663 &  27744                                       & 198011                                       & UNITED STATES                                & USD/kg                                       & MILK - PRICE RECEIVED- MEASURED IN \\$ / CWT & 0.2755781                                    & usda\\_dairy\\_quickstats                   \\\\\n",
       "\\end{tabular}\n"
      ],
      "text/markdown": [
       "\n",
       "| <!--/--> | id | yearmonth | geo | unit | product | price | source | \n",
       "|---|---|---|---|---|---|\n",
       "| 2248 | 272942                                     | 201304                                     | OCEANIA                                    | USD/kg                                     | SMP                                        | 5.3938000                                  | dairyco_world_price                        | \n",
       "| 2980 | 272210                                     | 200709                                     | EU                                         | USD/kg                                     | WMP                                        | 5.6000000                                  | dairyco_world_price                        | \n",
       "| 2992 | 272198                                     | 200708                                     | EU                                         | USD/kg                                     | SMP                                        | 5.3167000                                  | dairyco_world_price                        | \n",
       "| 3002 | 272188                                     | 200707                                     | EU                                         | USD/kg                                     | WMP                                        | 5.4500000                                  | dairyco_world_price                        | \n",
       "| 5662 |  27745                                     | 198012                                     | UNITED STATES                              | USD/kg                                     | MILK - PRICE RECEIVED- MEASURED IN $ / CWT | 0.2775465                                  | usda_dairy_quickstats                      | \n",
       "| 5663 |  27744                                     | 198011                                     | UNITED STATES                              | USD/kg                                     | MILK - PRICE RECEIVED- MEASURED IN $ / CWT | 0.2755781                                  | usda_dairy_quickstats                      | \n",
       "\n",
       "\n"
      ],
      "text/plain": [
       "     id     yearmonth geo           unit  \n",
       "2248 272942 201304    OCEANIA       USD/kg\n",
       "2980 272210 200709    EU            USD/kg\n",
       "2992 272198 200708    EU            USD/kg\n",
       "3002 272188 200707    EU            USD/kg\n",
       "5662  27745 198012    UNITED STATES USD/kg\n",
       "5663  27744 198011    UNITED STATES USD/kg\n",
       "     product                                    price     source               \n",
       "2248 SMP                                        5.3938000 dairyco_world_price  \n",
       "2980 WMP                                        5.6000000 dairyco_world_price  \n",
       "2992 SMP                                        5.3167000 dairyco_world_price  \n",
       "3002 WMP                                        5.4500000 dairyco_world_price  \n",
       "5662 MILK - PRICE RECEIVED- MEASURED IN $ / CWT 0.2775465 usda_dairy_quickstats\n",
       "5663 MILK - PRICE RECEIVED- MEASURED IN $ / CWT 0.2755781 usda_dairy_quickstats"
      ]
     },
     "metadata": {},
     "output_type": "display_data"
    }
   ],
   "source": [
    "head(anomalous_instances)"
   ]
  }
 ],
 "metadata": {
  "kernelspec": {
   "display_name": "R",
   "language": "R",
   "name": "ir"
  },
  "language_info": {
   "codemirror_mode": "r",
   "file_extension": ".r",
   "mimetype": "text/x-r-source",
   "name": "R",
   "pygments_lexer": "r",
   "version": "3.3.2"
  }
 },
 "nbformat": 4,
 "nbformat_minor": 2
}
