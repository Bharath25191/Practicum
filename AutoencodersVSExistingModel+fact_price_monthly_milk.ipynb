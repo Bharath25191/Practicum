{
 "cells": [
  {
   "cell_type": "code",
   "execution_count": 155,
   "metadata": {
    "collapsed": true,
    "deletable": true,
    "editable": true
   },
   "outputs": [],
   "source": [
    "import pandas as pd\n",
    "import numpy as np\n",
    "df = pd.read_csv(\"fact_price_weekly_pig.csv\")"
   ]
  },
  {
   "cell_type": "code",
   "execution_count": 156,
   "metadata": {
    "collapsed": true,
    "deletable": true,
    "editable": true
   },
   "outputs": [],
   "source": [
    "np.random.seed(0)"
   ]
  },
  {
   "cell_type": "code",
   "execution_count": 157,
   "metadata": {
    "collapsed": false
   },
   "outputs": [
    {
     "data": {
      "text/html": [
       "<div>\n",
       "<table border=\"1\" class=\"dataframe\">\n",
       "  <thead>\n",
       "    <tr style=\"text-align: right;\">\n",
       "      <th></th>\n",
       "      <th>id</th>\n",
       "      <th>date_sk</th>\n",
       "      <th>geo</th>\n",
       "      <th>unit</th>\n",
       "      <th>product</th>\n",
       "      <th>price</th>\n",
       "      <th>source</th>\n",
       "    </tr>\n",
       "  </thead>\n",
       "  <tbody>\n",
       "    <tr>\n",
       "      <th>0</th>\n",
       "      <td>165712</td>\n",
       "      <td>20161203</td>\n",
       "      <td>GREAT BRITAIN</td>\n",
       "      <td>EUR/kg</td>\n",
       "      <td>Pig</td>\n",
       "      <td>0.17510</td>\n",
       "      <td>bordbia_pig_price</td>\n",
       "    </tr>\n",
       "    <tr>\n",
       "      <th>1</th>\n",
       "      <td>165711</td>\n",
       "      <td>20161203</td>\n",
       "      <td>UNITED KINGDOM</td>\n",
       "      <td>EUR/kg</td>\n",
       "      <td>Pig</td>\n",
       "      <td>0.17417</td>\n",
       "      <td>bordbia_pig_price</td>\n",
       "    </tr>\n",
       "    <tr>\n",
       "      <th>2</th>\n",
       "      <td>165710</td>\n",
       "      <td>20161203</td>\n",
       "      <td>NORTHERN IRELAND</td>\n",
       "      <td>EUR/kg</td>\n",
       "      <td>Pig</td>\n",
       "      <td>NaN</td>\n",
       "      <td>bordbia_pig_price</td>\n",
       "    </tr>\n",
       "    <tr>\n",
       "      <th>3</th>\n",
       "      <td>165709</td>\n",
       "      <td>20161203</td>\n",
       "      <td>EU</td>\n",
       "      <td>EUR/kg</td>\n",
       "      <td>Pig</td>\n",
       "      <td>0.15203</td>\n",
       "      <td>bordbia_pig_price</td>\n",
       "    </tr>\n",
       "    <tr>\n",
       "      <th>4</th>\n",
       "      <td>165708</td>\n",
       "      <td>20161203</td>\n",
       "      <td>UNITED STATES</td>\n",
       "      <td>EUR/kg</td>\n",
       "      <td>Pig</td>\n",
       "      <td>0.10121</td>\n",
       "      <td>bordbia_pig_price</td>\n",
       "    </tr>\n",
       "  </tbody>\n",
       "</table>\n",
       "</div>"
      ],
      "text/plain": [
       "       id   date_sk               geo    unit product    price  \\\n",
       "0  165712  20161203     GREAT BRITAIN  EUR/kg     Pig  0.17510   \n",
       "1  165711  20161203    UNITED KINGDOM  EUR/kg     Pig  0.17417   \n",
       "2  165710  20161203  NORTHERN IRELAND  EUR/kg     Pig      NaN   \n",
       "3  165709  20161203                EU  EUR/kg     Pig  0.15203   \n",
       "4  165708  20161203     UNITED STATES  EUR/kg     Pig  0.10121   \n",
       "\n",
       "              source  \n",
       "0  bordbia_pig_price  \n",
       "1  bordbia_pig_price  \n",
       "2  bordbia_pig_price  \n",
       "3  bordbia_pig_price  \n",
       "4  bordbia_pig_price  "
      ]
     },
     "execution_count": 157,
     "metadata": {},
     "output_type": "execute_result"
    }
   ],
   "source": [
    "df.head()"
   ]
  },
  {
   "cell_type": "code",
   "execution_count": 158,
   "metadata": {
    "collapsed": false,
    "deletable": true,
    "editable": true
   },
   "outputs": [],
   "source": [
    "df[\"product\"] = df[\"product\"].astype('category').cat.codes\n",
    "df[\"unit\"] = df[\"unit\"].astype('category').cat.codes\n",
    "df[\"source\"] = df[\"source\"].astype('category').cat.codes\n",
    "df[\"geo\"] = df[\"geo\"].astype('category').cat.codes"
   ]
  },
  {
   "cell_type": "code",
   "execution_count": 161,
   "metadata": {
    "collapsed": false,
    "deletable": true,
    "editable": true,
    "scrolled": true
   },
   "outputs": [
    {
     "data": {
      "text/html": [
       "<div>\n",
       "<table border=\"1\" class=\"dataframe\">\n",
       "  <thead>\n",
       "    <tr style=\"text-align: right;\">\n",
       "      <th></th>\n",
       "      <th>id</th>\n",
       "      <th>date_sk</th>\n",
       "      <th>geo</th>\n",
       "      <th>unit</th>\n",
       "      <th>product</th>\n",
       "      <th>price</th>\n",
       "      <th>source</th>\n",
       "    </tr>\n",
       "  </thead>\n",
       "  <tbody>\n",
       "    <tr>\n",
       "      <th>0</th>\n",
       "      <td>165712</td>\n",
       "      <td>20161203</td>\n",
       "      <td>8</td>\n",
       "      <td>0</td>\n",
       "      <td>0</td>\n",
       "      <td>0.17510</td>\n",
       "      <td>0</td>\n",
       "    </tr>\n",
       "    <tr>\n",
       "      <th>1</th>\n",
       "      <td>165711</td>\n",
       "      <td>20161203</td>\n",
       "      <td>19</td>\n",
       "      <td>0</td>\n",
       "      <td>0</td>\n",
       "      <td>0.17417</td>\n",
       "      <td>0</td>\n",
       "    </tr>\n",
       "    <tr>\n",
       "      <th>2</th>\n",
       "      <td>165710</td>\n",
       "      <td>20161203</td>\n",
       "      <td>14</td>\n",
       "      <td>0</td>\n",
       "      <td>0</td>\n",
       "      <td>NaN</td>\n",
       "      <td>0</td>\n",
       "    </tr>\n",
       "    <tr>\n",
       "      <th>3</th>\n",
       "      <td>165709</td>\n",
       "      <td>20161203</td>\n",
       "      <td>4</td>\n",
       "      <td>0</td>\n",
       "      <td>0</td>\n",
       "      <td>0.15203</td>\n",
       "      <td>0</td>\n",
       "    </tr>\n",
       "    <tr>\n",
       "      <th>4</th>\n",
       "      <td>165708</td>\n",
       "      <td>20161203</td>\n",
       "      <td>20</td>\n",
       "      <td>0</td>\n",
       "      <td>0</td>\n",
       "      <td>0.10121</td>\n",
       "      <td>0</td>\n",
       "    </tr>\n",
       "  </tbody>\n",
       "</table>\n",
       "</div>"
      ],
      "text/plain": [
       "       id   date_sk  geo  unit  product    price  source\n",
       "0  165712  20161203    8     0        0  0.17510       0\n",
       "1  165711  20161203   19     0        0  0.17417       0\n",
       "2  165710  20161203   14     0        0      NaN       0\n",
       "3  165709  20161203    4     0        0  0.15203       0\n",
       "4  165708  20161203   20     0        0  0.10121       0"
      ]
     },
     "execution_count": 161,
     "metadata": {},
     "output_type": "execute_result"
    }
   ],
   "source": [
    "df.head()"
   ]
  },
  {
   "cell_type": "code",
   "execution_count": 162,
   "metadata": {
    "collapsed": false
   },
   "outputs": [],
   "source": [
    "df.price = df.price.fillna(np.mean(df.price))"
   ]
  },
  {
   "cell_type": "code",
   "execution_count": 163,
   "metadata": {
    "collapsed": false
   },
   "outputs": [
    {
     "data": {
      "text/plain": [
       "1.2395499999999999"
      ]
     },
     "execution_count": 163,
     "metadata": {},
     "output_type": "execute_result"
    }
   ],
   "source": [
    "df.price.max()"
   ]
  },
  {
   "cell_type": "code",
   "execution_count": 164,
   "metadata": {
    "collapsed": false,
    "deletable": true,
    "editable": true
   },
   "outputs": [],
   "source": [
    "from sklearn import preprocessing\n",
    "\n",
    "min_max_scaler = preprocessing.MinMaxScaler()\n",
    "df_scaled = min_max_scaler.fit_transform(df)\n",
    "df_scaled = pd.DataFrame(df_scaled)\n",
    "df_scaled = df_scaled.astype('float32')"
   ]
  },
  {
   "cell_type": "code",
   "execution_count": 165,
   "metadata": {
    "collapsed": false,
    "deletable": true,
    "editable": true
   },
   "outputs": [],
   "source": [
    "array = np.array(df_scaled)\n",
    "a,b = array.shape\n",
    "array = array.reshape((1,a,b))"
   ]
  },
  {
   "cell_type": "code",
   "execution_count": 166,
   "metadata": {
    "collapsed": false
   },
   "outputs": [
    {
     "data": {
      "text/plain": [
       "(1, 24066, 7)"
      ]
     },
     "execution_count": 166,
     "metadata": {},
     "output_type": "execute_result"
    }
   ],
   "source": [
    "array.shape"
   ]
  },
  {
   "cell_type": "code",
   "execution_count": 167,
   "metadata": {
    "collapsed": false,
    "deletable": true,
    "editable": true
   },
   "outputs": [
    {
     "data": {
      "text/plain": [
       "(24066, 7)"
      ]
     },
     "execution_count": 167,
     "metadata": {},
     "output_type": "execute_result"
    }
   ],
   "source": [
    "df_scaled.shape"
   ]
  },
  {
   "cell_type": "code",
   "execution_count": 168,
   "metadata": {
    "collapsed": false,
    "deletable": true,
    "editable": true
   },
   "outputs": [],
   "source": [
    "from keras.layers import Input, Dense\n",
    "from keras.models import Model\n",
    "\n",
    "# this is the size of our encoded representations\n",
    "encoding_dim = b  # 80 floats -> compression of factor 0.8, assuming the input is 100 floats\n",
    "\n",
    "# this is our input placeholder\n",
    "input = Input(shape=(a,b))\n",
    "# \"encoded\" is the encoded representation of the input\n",
    "encoded = Dense(encoding_dim, activation='relu')(input)\n",
    "# \"decoded\" is the lossy reconstruction of the input\n",
    "decoded = Dense(b, activation='sigmoid')(encoded)\n",
    "\n",
    "# this model maps an input to its reconstruction\n",
    "autoencoder = Model(inputs=input, outputs=decoded)"
   ]
  },
  {
   "cell_type": "code",
   "execution_count": 169,
   "metadata": {
    "collapsed": true,
    "deletable": true,
    "editable": true
   },
   "outputs": [],
   "source": [
    "encoder = Model(inputs=input, outputs=encoded)"
   ]
  },
  {
   "cell_type": "code",
   "execution_count": 170,
   "metadata": {
    "collapsed": false,
    "deletable": true,
    "editable": true
   },
   "outputs": [],
   "source": [
    "\n",
    "# create a placeholder for an encoded (32-dimensional) input\n",
    "encoded_input = Input(shape=array.shape[1:])\n",
    "# retrieve the last layer of the autoencoder model\n",
    "decoder_layer = autoencoder.layers[-1]\n",
    "# create the decoder model\n",
    "decoder = Model(inputs=encoded_input, outputs=decoder_layer(encoded_input))"
   ]
  },
  {
   "cell_type": "code",
   "execution_count": 171,
   "metadata": {
    "collapsed": true,
    "deletable": true,
    "editable": true
   },
   "outputs": [],
   "source": [
    "autoencoder.compile(optimizer='adadelta', loss='binary_crossentropy')\n"
   ]
  },
  {
   "cell_type": "code",
   "execution_count": 172,
   "metadata": {
    "collapsed": false,
    "deletable": true,
    "editable": true
   },
   "outputs": [],
   "source": [
    "# Just compute the distance before learning (show be very bad !)\n",
    "import numpy as np\n",
    "test_encode = encoder.predict(array)\n",
    "test_decode = decoder.predict(test_encode)\n",
    "test_encode = test_encode.reshape((a,b))\n",
    "test_decode = test_decode.reshape((a,b))\n",
    "test_array = array.reshape((a,b))\n",
    "naivedist = np.zeros(len(df_scaled.values))\n",
    "for i, x in enumerate(test_array):\n",
    "    naivedist[i] = np.linalg.norm(x-test_decode[i]) "
   ]
  },
  {
   "cell_type": "code",
   "execution_count": 173,
   "metadata": {
    "collapsed": false,
    "deletable": true,
    "editable": true
   },
   "outputs": [],
   "source": [
    "df[\"naivedist\"] = naivedist"
   ]
  },
  {
   "cell_type": "code",
   "execution_count": 174,
   "metadata": {
    "collapsed": false,
    "deletable": true,
    "editable": true
   },
   "outputs": [
    {
     "data": {
      "text/plain": [
       "<keras.callbacks.History at 0x7fa1e986d510>"
      ]
     },
     "execution_count": 174,
     "metadata": {},
     "output_type": "execute_result"
    }
   ],
   "source": [
    "autoencoder.fit(array, array,\n",
    "                epochs=2500,\n",
    "                batch_size=100,\n",
    "                shuffle=True,\n",
    "                verbose=0)"
   ]
  },
  {
   "cell_type": "code",
   "execution_count": 175,
   "metadata": {
    "collapsed": false,
    "deletable": true,
    "editable": true
   },
   "outputs": [],
   "source": [
    "encoded = encoder.predict(array)\n",
    "decoded = decoder.predict(encoded)"
   ]
  },
  {
   "cell_type": "code",
   "execution_count": 176,
   "metadata": {
    "collapsed": false,
    "deletable": true,
    "editable": true
   },
   "outputs": [],
   "source": [
    "encoded = encoded.reshape((a,b))\n",
    "decoded = decoded.reshape((a,b))\n",
    "array = array.reshape((a,b))\n"
   ]
  },
  {
   "cell_type": "code",
   "execution_count": 177,
   "metadata": {
    "collapsed": false,
    "deletable": true,
    "editable": true
   },
   "outputs": [],
   "source": [
    "import numpy as np\n",
    "\n",
    "dist = np.zeros(len(df_scaled.values))\n",
    "for i, x in enumerate(array):\n",
    "    dist[i] = np.linalg.norm(x-decoded[i]) "
   ]
  },
  {
   "cell_type": "code",
   "execution_count": 178,
   "metadata": {
    "collapsed": false,
    "deletable": true,
    "editable": true
   },
   "outputs": [],
   "source": [
    "df[\"dist\"] = dist"
   ]
  },
  {
   "cell_type": "code",
   "execution_count": 207,
   "metadata": {
    "collapsed": false,
    "deletable": true,
    "editable": true
   },
   "outputs": [],
   "source": [
    "def mad_based_outlier(points, thresh=4):\n",
    "    \"\"\"\n",
    "    Returns a boolean array with True if points are outliers and False \n",
    "    otherwise.\n",
    "\n",
    "    Parameters:\n",
    "    -----------\n",
    "        points : An numobservations by numdimensions array of observations\n",
    "        thresh : The modified z-score to use as a threshold. Observations with\n",
    "            a modified z-score (based on the median absolute deviation) greater\n",
    "            than this value will be classified as outliers.\n",
    "\n",
    "    Returns:\n",
    "    --------\n",
    "        mask : A numobservations-length boolean array.\n",
    "\n",
    "    References:\n",
    "    ----------\n",
    "        Boris Iglewicz and David Hoaglin (1993), \"Volume 16: How to Detect and\n",
    "        Handle Outliers\", The ASQC Basic References in Quality Control:\n",
    "        Statistical Techniques, Edward F. Mykytka, Ph.D8., Editor.\n",
    "    \"\"\"\n",
    "    if len(points.shape) == 1:\n",
    "        points = points[:,None]\n",
    "    median = np.median(points, axis=0)\n",
    "    diff = np.sum((points - median)**2, axis=-1)\n",
    "    diff = np.sqrt(diff)\n",
    "    med_abs_deviation = np.median(diff)\n",
    "\n",
    "    modified_z_score = 0.6745 * diff / med_abs_deviation\n",
    "    return modified_z_score > thresh\n",
    "\n",
    "def percentile_based_outlier(data, threshold=99):\n",
    "    diff = (100 - threshold) / 2.0\n",
    "    minval, maxval = np.percentile(data, [diff, 100 - diff])\n",
    "    return (data < minval) | (data > maxval)\n",
    "\n",
    "results = mad_based_outlier(dist)\n",
    "results_per = percentile_based_outlier(dist)"
   ]
  },
  {
   "cell_type": "code",
   "execution_count": 208,
   "metadata": {
    "collapsed": false,
    "deletable": true,
    "editable": true
   },
   "outputs": [],
   "source": [
    "df[\"Outlier_Verdict\"] = results\n",
    "df[\"Outlier_per\"] = results_per"
   ]
  },
  {
   "cell_type": "code",
   "execution_count": 181,
   "metadata": {
    "collapsed": false,
    "deletable": true,
    "editable": true
   },
   "outputs": [
    {
     "data": {
      "text/plain": [
       "array([True, False], dtype=object)"
      ]
     },
     "execution_count": 181,
     "metadata": {},
     "output_type": "execute_result"
    }
   ],
   "source": [
    "df.Outlier_Verdict.unique()"
   ]
  },
  {
   "cell_type": "code",
   "execution_count": 182,
   "metadata": {
    "collapsed": true,
    "deletable": true,
    "editable": true
   },
   "outputs": [],
   "source": [
    "def anomaly_detector2(feature,Z=3):\n",
    "    results = []\n",
    "    diff_X = []\n",
    "    X= np.sort(feature)\n",
    "    for i in range(len(feature)):\n",
    "        if i ==0:\n",
    "            value = feature[i]\n",
    "        else:\n",
    "            value = feature[i] - feature[i-1]\n",
    "        diff_X.append(value)\n",
    "    X_mean = np.mean(diff_X)\n",
    "    X_std = np.std(diff_X)\n",
    "    X_upper = X_mean + X_std*Z\n",
    "    X_lower = X_mean - X_std*Z\n",
    "    for i in diff_X:\n",
    "        if X_upper < i or X_lower > i:\n",
    "            results.append(True)\n",
    "        else:\n",
    "            results.append(False)\n",
    "    return results"
   ]
  },
  {
   "cell_type": "code",
   "execution_count": 183,
   "metadata": {
    "collapsed": false,
    "deletable": true,
    "editable": true
   },
   "outputs": [],
   "source": [
    "df[\"Outlier_RM\"] = anomaly_detector2(df[\"price\"])"
   ]
  },
  {
   "cell_type": "code",
   "execution_count": 184,
   "metadata": {
    "collapsed": false,
    "deletable": true,
    "editable": true
   },
   "outputs": [
    {
     "data": {
      "text/plain": [
       "array([True, False], dtype=object)"
      ]
     },
     "execution_count": 184,
     "metadata": {},
     "output_type": "execute_result"
    }
   ],
   "source": [
    "df.Outlier_RM.unique()"
   ]
  },
  {
   "cell_type": "code",
   "execution_count": 202,
   "metadata": {
    "collapsed": false,
    "deletable": true,
    "editable": true
   },
   "outputs": [
    {
     "data": {
      "text/html": [
       "<div>\n",
       "<table border=\"1\" class=\"dataframe\">\n",
       "  <thead>\n",
       "    <tr style=\"text-align: right;\">\n",
       "      <th></th>\n",
       "      <th>id</th>\n",
       "      <th>date_sk</th>\n",
       "      <th>geo</th>\n",
       "      <th>unit</th>\n",
       "      <th>product</th>\n",
       "      <th>price</th>\n",
       "      <th>source</th>\n",
       "      <th>naivedist</th>\n",
       "      <th>dist</th>\n",
       "      <th>Outlier_Verdict</th>\n",
       "      <th>Outlier_per</th>\n",
       "      <th>Outlier_RM</th>\n",
       "      <th>Outlier</th>\n",
       "    </tr>\n",
       "  </thead>\n",
       "  <tbody>\n",
       "    <tr>\n",
       "      <th>0</th>\n",
       "      <td>165712</td>\n",
       "      <td>20161203</td>\n",
       "      <td>8</td>\n",
       "      <td>0</td>\n",
       "      <td>0</td>\n",
       "      <td>0.175100</td>\n",
       "      <td>0</td>\n",
       "      <td>1.203914</td>\n",
       "      <td>0.322401</td>\n",
       "      <td>True</td>\n",
       "      <td>False</td>\n",
       "      <td>True</td>\n",
       "      <td>1</td>\n",
       "    </tr>\n",
       "    <tr>\n",
       "      <th>1711</th>\n",
       "      <td>14074</td>\n",
       "      <td>19960622</td>\n",
       "      <td>12</td>\n",
       "      <td>0</td>\n",
       "      <td>0</td>\n",
       "      <td>1.210780</td>\n",
       "      <td>0</td>\n",
       "      <td>1.119582</td>\n",
       "      <td>0.949007</td>\n",
       "      <td>True</td>\n",
       "      <td>True</td>\n",
       "      <td>True</td>\n",
       "      <td>1</td>\n",
       "    </tr>\n",
       "    <tr>\n",
       "      <th>1712</th>\n",
       "      <td>14075</td>\n",
       "      <td>19960622</td>\n",
       "      <td>13</td>\n",
       "      <td>0</td>\n",
       "      <td>0</td>\n",
       "      <td>0.166040</td>\n",
       "      <td>0</td>\n",
       "      <td>1.141691</td>\n",
       "      <td>0.058130</td>\n",
       "      <td>False</td>\n",
       "      <td>False</td>\n",
       "      <td>True</td>\n",
       "      <td>0</td>\n",
       "    </tr>\n",
       "    <tr>\n",
       "      <th>1926</th>\n",
       "      <td>14289</td>\n",
       "      <td>19960831</td>\n",
       "      <td>18</td>\n",
       "      <td>0</td>\n",
       "      <td>0</td>\n",
       "      <td>0.011890</td>\n",
       "      <td>0</td>\n",
       "      <td>1.234762</td>\n",
       "      <td>0.118102</td>\n",
       "      <td>False</td>\n",
       "      <td>False</td>\n",
       "      <td>True</td>\n",
       "      <td>0</td>\n",
       "    </tr>\n",
       "    <tr>\n",
       "      <th>1927</th>\n",
       "      <td>14290</td>\n",
       "      <td>19960831</td>\n",
       "      <td>20</td>\n",
       "      <td>0</td>\n",
       "      <td>0</td>\n",
       "      <td>0.124290</td>\n",
       "      <td>0</td>\n",
       "      <td>1.211516</td>\n",
       "      <td>0.072179</td>\n",
       "      <td>False</td>\n",
       "      <td>False</td>\n",
       "      <td>True</td>\n",
       "      <td>0</td>\n",
       "    </tr>\n",
       "    <tr>\n",
       "      <th>1945</th>\n",
       "      <td>14308</td>\n",
       "      <td>19960907</td>\n",
       "      <td>16</td>\n",
       "      <td>0</td>\n",
       "      <td>0</td>\n",
       "      <td>0.021500</td>\n",
       "      <td>0</td>\n",
       "      <td>1.212351</td>\n",
       "      <td>0.121925</td>\n",
       "      <td>False</td>\n",
       "      <td>False</td>\n",
       "      <td>True</td>\n",
       "      <td>0</td>\n",
       "    </tr>\n",
       "    <tr>\n",
       "      <th>1946</th>\n",
       "      <td>14309</td>\n",
       "      <td>19960907</td>\n",
       "      <td>17</td>\n",
       "      <td>0</td>\n",
       "      <td>0</td>\n",
       "      <td>0.188580</td>\n",
       "      <td>0</td>\n",
       "      <td>1.153515</td>\n",
       "      <td>0.057001</td>\n",
       "      <td>False</td>\n",
       "      <td>False</td>\n",
       "      <td>True</td>\n",
       "      <td>0</td>\n",
       "    </tr>\n",
       "    <tr>\n",
       "      <th>3463</th>\n",
       "      <td>15826</td>\n",
       "      <td>19980124</td>\n",
       "      <td>19</td>\n",
       "      <td>0</td>\n",
       "      <td>0</td>\n",
       "      <td>1.239550</td>\n",
       "      <td>0</td>\n",
       "      <td>1.119742</td>\n",
       "      <td>0.957123</td>\n",
       "      <td>True</td>\n",
       "      <td>True</td>\n",
       "      <td>True</td>\n",
       "      <td>1</td>\n",
       "    </tr>\n",
       "    <tr>\n",
       "      <th>3464</th>\n",
       "      <td>15827</td>\n",
       "      <td>19980124</td>\n",
       "      <td>8</td>\n",
       "      <td>0</td>\n",
       "      <td>0</td>\n",
       "      <td>0.146117</td>\n",
       "      <td>0</td>\n",
       "      <td>1.124226</td>\n",
       "      <td>0.032305</td>\n",
       "      <td>False</td>\n",
       "      <td>False</td>\n",
       "      <td>True</td>\n",
       "      <td>0</td>\n",
       "    </tr>\n",
       "    <tr>\n",
       "      <th>4447</th>\n",
       "      <td>16810</td>\n",
       "      <td>19981219</td>\n",
       "      <td>20</td>\n",
       "      <td>0</td>\n",
       "      <td>0</td>\n",
       "      <td>0.021020</td>\n",
       "      <td>0</td>\n",
       "      <td>1.212153</td>\n",
       "      <td>0.120921</td>\n",
       "      <td>False</td>\n",
       "      <td>False</td>\n",
       "      <td>True</td>\n",
       "      <td>0</td>\n",
       "    </tr>\n",
       "    <tr>\n",
       "      <th>4964</th>\n",
       "      <td>17327</td>\n",
       "      <td>19990612</td>\n",
       "      <td>10</td>\n",
       "      <td>0</td>\n",
       "      <td>0</td>\n",
       "      <td>0.101400</td>\n",
       "      <td>0</td>\n",
       "      <td>1.111406</td>\n",
       "      <td>0.050244</td>\n",
       "      <td>False</td>\n",
       "      <td>False</td>\n",
       "      <td>True</td>\n",
       "      <td>0</td>\n",
       "    </tr>\n",
       "    <tr>\n",
       "      <th>4985</th>\n",
       "      <td>17348</td>\n",
       "      <td>19990619</td>\n",
       "      <td>10</td>\n",
       "      <td>0</td>\n",
       "      <td>0</td>\n",
       "      <td>0.103050</td>\n",
       "      <td>0</td>\n",
       "      <td>1.110733</td>\n",
       "      <td>0.048997</td>\n",
       "      <td>False</td>\n",
       "      <td>False</td>\n",
       "      <td>True</td>\n",
       "      <td>0</td>\n",
       "    </tr>\n",
       "    <tr>\n",
       "      <th>5055</th>\n",
       "      <td>17418</td>\n",
       "      <td>19990710</td>\n",
       "      <td>18</td>\n",
       "      <td>0</td>\n",
       "      <td>0</td>\n",
       "      <td>0.018840</td>\n",
       "      <td>0</td>\n",
       "      <td>1.173084</td>\n",
       "      <td>0.114119</td>\n",
       "      <td>False</td>\n",
       "      <td>False</td>\n",
       "      <td>True</td>\n",
       "      <td>0</td>\n",
       "    </tr>\n",
       "    <tr>\n",
       "      <th>5327</th>\n",
       "      <td>17690</td>\n",
       "      <td>19991009</td>\n",
       "      <td>17</td>\n",
       "      <td>0</td>\n",
       "      <td>0</td>\n",
       "      <td>0.014370</td>\n",
       "      <td>0</td>\n",
       "      <td>1.164485</td>\n",
       "      <td>0.122600</td>\n",
       "      <td>False</td>\n",
       "      <td>False</td>\n",
       "      <td>True</td>\n",
       "      <td>0</td>\n",
       "    </tr>\n",
       "    <tr>\n",
       "      <th>5328</th>\n",
       "      <td>17691</td>\n",
       "      <td>19991009</td>\n",
       "      <td>18</td>\n",
       "      <td>0</td>\n",
       "      <td>0</td>\n",
       "      <td>0.140520</td>\n",
       "      <td>0</td>\n",
       "      <td>1.121168</td>\n",
       "      <td>0.027773</td>\n",
       "      <td>False</td>\n",
       "      <td>False</td>\n",
       "      <td>True</td>\n",
       "      <td>0</td>\n",
       "    </tr>\n",
       "    <tr>\n",
       "      <th>5634</th>\n",
       "      <td>17997</td>\n",
       "      <td>20000122</td>\n",
       "      <td>7</td>\n",
       "      <td>0</td>\n",
       "      <td>0</td>\n",
       "      <td>0.015780</td>\n",
       "      <td>0</td>\n",
       "      <td>1.150239</td>\n",
       "      <td>0.123526</td>\n",
       "      <td>False</td>\n",
       "      <td>False</td>\n",
       "      <td>True</td>\n",
       "      <td>0</td>\n",
       "    </tr>\n",
       "    <tr>\n",
       "      <th>5635</th>\n",
       "      <td>17998</td>\n",
       "      <td>20000122</td>\n",
       "      <td>9</td>\n",
       "      <td>0</td>\n",
       "      <td>0</td>\n",
       "      <td>0.156500</td>\n",
       "      <td>0</td>\n",
       "      <td>1.084427</td>\n",
       "      <td>0.043977</td>\n",
       "      <td>False</td>\n",
       "      <td>False</td>\n",
       "      <td>True</td>\n",
       "      <td>0</td>\n",
       "    </tr>\n",
       "    <tr>\n",
       "      <th>6665</th>\n",
       "      <td>19028</td>\n",
       "      <td>20001230</td>\n",
       "      <td>10</td>\n",
       "      <td>0</td>\n",
       "      <td>0</td>\n",
       "      <td>0.140510</td>\n",
       "      <td>0</td>\n",
       "      <td>1.081005</td>\n",
       "      <td>0.039024</td>\n",
       "      <td>False</td>\n",
       "      <td>False</td>\n",
       "      <td>True</td>\n",
       "      <td>0</td>\n",
       "    </tr>\n",
       "    <tr>\n",
       "      <th>6770</th>\n",
       "      <td>19133</td>\n",
       "      <td>20010203</td>\n",
       "      <td>10</td>\n",
       "      <td>0</td>\n",
       "      <td>0</td>\n",
       "      <td>0.139300</td>\n",
       "      <td>0</td>\n",
       "      <td>1.073129</td>\n",
       "      <td>0.045009</td>\n",
       "      <td>False</td>\n",
       "      <td>False</td>\n",
       "      <td>True</td>\n",
       "      <td>0</td>\n",
       "    </tr>\n",
       "    <tr>\n",
       "      <th>6959</th>\n",
       "      <td>19322</td>\n",
       "      <td>20010407</td>\n",
       "      <td>10</td>\n",
       "      <td>0</td>\n",
       "      <td>0</td>\n",
       "      <td>0.149540</td>\n",
       "      <td>0</td>\n",
       "      <td>1.068942</td>\n",
       "      <td>0.043728</td>\n",
       "      <td>False</td>\n",
       "      <td>False</td>\n",
       "      <td>True</td>\n",
       "      <td>0</td>\n",
       "    </tr>\n",
       "    <tr>\n",
       "      <th>6980</th>\n",
       "      <td>19343</td>\n",
       "      <td>20010414</td>\n",
       "      <td>10</td>\n",
       "      <td>0</td>\n",
       "      <td>0</td>\n",
       "      <td>0.149280</td>\n",
       "      <td>0</td>\n",
       "      <td>1.068973</td>\n",
       "      <td>0.043682</td>\n",
       "      <td>False</td>\n",
       "      <td>False</td>\n",
       "      <td>True</td>\n",
       "      <td>0</td>\n",
       "    </tr>\n",
       "    <tr>\n",
       "      <th>7001</th>\n",
       "      <td>19364</td>\n",
       "      <td>20010421</td>\n",
       "      <td>10</td>\n",
       "      <td>0</td>\n",
       "      <td>0</td>\n",
       "      <td>0.149550</td>\n",
       "      <td>0</td>\n",
       "      <td>1.068822</td>\n",
       "      <td>0.043639</td>\n",
       "      <td>False</td>\n",
       "      <td>False</td>\n",
       "      <td>True</td>\n",
       "      <td>0</td>\n",
       "    </tr>\n",
       "    <tr>\n",
       "      <th>7022</th>\n",
       "      <td>19385</td>\n",
       "      <td>20010428</td>\n",
       "      <td>10</td>\n",
       "      <td>0</td>\n",
       "      <td>0</td>\n",
       "      <td>0.149390</td>\n",
       "      <td>0</td>\n",
       "      <td>1.068819</td>\n",
       "      <td>0.043594</td>\n",
       "      <td>False</td>\n",
       "      <td>False</td>\n",
       "      <td>True</td>\n",
       "      <td>0</td>\n",
       "    </tr>\n",
       "    <tr>\n",
       "      <th>7379</th>\n",
       "      <td>19742</td>\n",
       "      <td>20010825</td>\n",
       "      <td>10</td>\n",
       "      <td>0</td>\n",
       "      <td>0</td>\n",
       "      <td>0.144120</td>\n",
       "      <td>0</td>\n",
       "      <td>1.069443</td>\n",
       "      <td>0.043248</td>\n",
       "      <td>False</td>\n",
       "      <td>False</td>\n",
       "      <td>True</td>\n",
       "      <td>0</td>\n",
       "    </tr>\n",
       "    <tr>\n",
       "      <th>7400</th>\n",
       "      <td>19763</td>\n",
       "      <td>20010901</td>\n",
       "      <td>10</td>\n",
       "      <td>0</td>\n",
       "      <td>0</td>\n",
       "      <td>0.142920</td>\n",
       "      <td>0</td>\n",
       "      <td>1.069750</td>\n",
       "      <td>0.043367</td>\n",
       "      <td>False</td>\n",
       "      <td>False</td>\n",
       "      <td>True</td>\n",
       "      <td>0</td>\n",
       "    </tr>\n",
       "    <tr>\n",
       "      <th>7463</th>\n",
       "      <td>19826</td>\n",
       "      <td>20010922</td>\n",
       "      <td>10</td>\n",
       "      <td>0</td>\n",
       "      <td>0</td>\n",
       "      <td>0.139490</td>\n",
       "      <td>0</td>\n",
       "      <td>1.070775</td>\n",
       "      <td>0.043779</td>\n",
       "      <td>False</td>\n",
       "      <td>False</td>\n",
       "      <td>True</td>\n",
       "      <td>0</td>\n",
       "    </tr>\n",
       "    <tr>\n",
       "      <th>7484</th>\n",
       "      <td>19847</td>\n",
       "      <td>20010929</td>\n",
       "      <td>10</td>\n",
       "      <td>0</td>\n",
       "      <td>0</td>\n",
       "      <td>0.139370</td>\n",
       "      <td>0</td>\n",
       "      <td>1.070760</td>\n",
       "      <td>0.043764</td>\n",
       "      <td>False</td>\n",
       "      <td>False</td>\n",
       "      <td>True</td>\n",
       "      <td>0</td>\n",
       "    </tr>\n",
       "    <tr>\n",
       "      <th>12623</th>\n",
       "      <td>24986</td>\n",
       "      <td>20060610</td>\n",
       "      <td>2</td>\n",
       "      <td>0</td>\n",
       "      <td>0</td>\n",
       "      <td>0.066730</td>\n",
       "      <td>0</td>\n",
       "      <td>1.169405</td>\n",
       "      <td>0.071964</td>\n",
       "      <td>False</td>\n",
       "      <td>False</td>\n",
       "      <td>True</td>\n",
       "      <td>0</td>\n",
       "    </tr>\n",
       "    <tr>\n",
       "      <th>12644</th>\n",
       "      <td>25007</td>\n",
       "      <td>20060617</td>\n",
       "      <td>2</td>\n",
       "      <td>0</td>\n",
       "      <td>0</td>\n",
       "      <td>0.066450</td>\n",
       "      <td>0</td>\n",
       "      <td>1.169451</td>\n",
       "      <td>0.072212</td>\n",
       "      <td>False</td>\n",
       "      <td>False</td>\n",
       "      <td>True</td>\n",
       "      <td>0</td>\n",
       "    </tr>\n",
       "    <tr>\n",
       "      <th>12665</th>\n",
       "      <td>25028</td>\n",
       "      <td>20060624</td>\n",
       "      <td>2</td>\n",
       "      <td>0</td>\n",
       "      <td>0</td>\n",
       "      <td>0.066820</td>\n",
       "      <td>0</td>\n",
       "      <td>1.169295</td>\n",
       "      <td>0.071884</td>\n",
       "      <td>False</td>\n",
       "      <td>False</td>\n",
       "      <td>True</td>\n",
       "      <td>0</td>\n",
       "    </tr>\n",
       "    <tr>\n",
       "      <th>12707</th>\n",
       "      <td>25070</td>\n",
       "      <td>20060708</td>\n",
       "      <td>2</td>\n",
       "      <td>0</td>\n",
       "      <td>0</td>\n",
       "      <td>0.068260</td>\n",
       "      <td>0</td>\n",
       "      <td>1.168797</td>\n",
       "      <td>0.070604</td>\n",
       "      <td>False</td>\n",
       "      <td>False</td>\n",
       "      <td>True</td>\n",
       "      <td>0</td>\n",
       "    </tr>\n",
       "    <tr>\n",
       "      <th>12749</th>\n",
       "      <td>25112</td>\n",
       "      <td>20060722</td>\n",
       "      <td>2</td>\n",
       "      <td>0</td>\n",
       "      <td>0</td>\n",
       "      <td>0.066240</td>\n",
       "      <td>0</td>\n",
       "      <td>1.169343</td>\n",
       "      <td>0.072394</td>\n",
       "      <td>False</td>\n",
       "      <td>False</td>\n",
       "      <td>True</td>\n",
       "      <td>0</td>\n",
       "    </tr>\n",
       "    <tr>\n",
       "      <th>12770</th>\n",
       "      <td>25133</td>\n",
       "      <td>20060729</td>\n",
       "      <td>2</td>\n",
       "      <td>0</td>\n",
       "      <td>0</td>\n",
       "      <td>0.066330</td>\n",
       "      <td>0</td>\n",
       "      <td>1.169274</td>\n",
       "      <td>0.072316</td>\n",
       "      <td>False</td>\n",
       "      <td>False</td>\n",
       "      <td>True</td>\n",
       "      <td>0</td>\n",
       "    </tr>\n",
       "    <tr>\n",
       "      <th>12791</th>\n",
       "      <td>25154</td>\n",
       "      <td>20060805</td>\n",
       "      <td>2</td>\n",
       "      <td>0</td>\n",
       "      <td>0</td>\n",
       "      <td>0.066330</td>\n",
       "      <td>0</td>\n",
       "      <td>1.169264</td>\n",
       "      <td>0.072311</td>\n",
       "      <td>False</td>\n",
       "      <td>False</td>\n",
       "      <td>True</td>\n",
       "      <td>0</td>\n",
       "    </tr>\n",
       "    <tr>\n",
       "      <th>12812</th>\n",
       "      <td>25175</td>\n",
       "      <td>20060812</td>\n",
       "      <td>2</td>\n",
       "      <td>0</td>\n",
       "      <td>0</td>\n",
       "      <td>0.071020</td>\n",
       "      <td>0</td>\n",
       "      <td>1.167767</td>\n",
       "      <td>0.068168</td>\n",
       "      <td>False</td>\n",
       "      <td>False</td>\n",
       "      <td>True</td>\n",
       "      <td>0</td>\n",
       "    </tr>\n",
       "  </tbody>\n",
       "</table>\n",
       "</div>"
      ],
      "text/plain": [
       "           id   date_sk  geo  unit  product     price  source  naivedist  \\\n",
       "0      165712  20161203    8     0        0  0.175100       0   1.203914   \n",
       "1711    14074  19960622   12     0        0  1.210780       0   1.119582   \n",
       "1712    14075  19960622   13     0        0  0.166040       0   1.141691   \n",
       "1926    14289  19960831   18     0        0  0.011890       0   1.234762   \n",
       "1927    14290  19960831   20     0        0  0.124290       0   1.211516   \n",
       "1945    14308  19960907   16     0        0  0.021500       0   1.212351   \n",
       "1946    14309  19960907   17     0        0  0.188580       0   1.153515   \n",
       "3463    15826  19980124   19     0        0  1.239550       0   1.119742   \n",
       "3464    15827  19980124    8     0        0  0.146117       0   1.124226   \n",
       "4447    16810  19981219   20     0        0  0.021020       0   1.212153   \n",
       "4964    17327  19990612   10     0        0  0.101400       0   1.111406   \n",
       "4985    17348  19990619   10     0        0  0.103050       0   1.110733   \n",
       "5055    17418  19990710   18     0        0  0.018840       0   1.173084   \n",
       "5327    17690  19991009   17     0        0  0.014370       0   1.164485   \n",
       "5328    17691  19991009   18     0        0  0.140520       0   1.121168   \n",
       "5634    17997  20000122    7     0        0  0.015780       0   1.150239   \n",
       "5635    17998  20000122    9     0        0  0.156500       0   1.084427   \n",
       "6665    19028  20001230   10     0        0  0.140510       0   1.081005   \n",
       "6770    19133  20010203   10     0        0  0.139300       0   1.073129   \n",
       "6959    19322  20010407   10     0        0  0.149540       0   1.068942   \n",
       "6980    19343  20010414   10     0        0  0.149280       0   1.068973   \n",
       "7001    19364  20010421   10     0        0  0.149550       0   1.068822   \n",
       "7022    19385  20010428   10     0        0  0.149390       0   1.068819   \n",
       "7379    19742  20010825   10     0        0  0.144120       0   1.069443   \n",
       "7400    19763  20010901   10     0        0  0.142920       0   1.069750   \n",
       "7463    19826  20010922   10     0        0  0.139490       0   1.070775   \n",
       "7484    19847  20010929   10     0        0  0.139370       0   1.070760   \n",
       "12623   24986  20060610    2     0        0  0.066730       0   1.169405   \n",
       "12644   25007  20060617    2     0        0  0.066450       0   1.169451   \n",
       "12665   25028  20060624    2     0        0  0.066820       0   1.169295   \n",
       "12707   25070  20060708    2     0        0  0.068260       0   1.168797   \n",
       "12749   25112  20060722    2     0        0  0.066240       0   1.169343   \n",
       "12770   25133  20060729    2     0        0  0.066330       0   1.169274   \n",
       "12791   25154  20060805    2     0        0  0.066330       0   1.169264   \n",
       "12812   25175  20060812    2     0        0  0.071020       0   1.167767   \n",
       "\n",
       "           dist Outlier_Verdict Outlier_per Outlier_RM  Outlier  \n",
       "0      0.322401            True       False       True        1  \n",
       "1711   0.949007            True        True       True        1  \n",
       "1712   0.058130           False       False       True        0  \n",
       "1926   0.118102           False       False       True        0  \n",
       "1927   0.072179           False       False       True        0  \n",
       "1945   0.121925           False       False       True        0  \n",
       "1946   0.057001           False       False       True        0  \n",
       "3463   0.957123            True        True       True        1  \n",
       "3464   0.032305           False       False       True        0  \n",
       "4447   0.120921           False       False       True        0  \n",
       "4964   0.050244           False       False       True        0  \n",
       "4985   0.048997           False       False       True        0  \n",
       "5055   0.114119           False       False       True        0  \n",
       "5327   0.122600           False       False       True        0  \n",
       "5328   0.027773           False       False       True        0  \n",
       "5634   0.123526           False       False       True        0  \n",
       "5635   0.043977           False       False       True        0  \n",
       "6665   0.039024           False       False       True        0  \n",
       "6770   0.045009           False       False       True        0  \n",
       "6959   0.043728           False       False       True        0  \n",
       "6980   0.043682           False       False       True        0  \n",
       "7001   0.043639           False       False       True        0  \n",
       "7022   0.043594           False       False       True        0  \n",
       "7379   0.043248           False       False       True        0  \n",
       "7400   0.043367           False       False       True        0  \n",
       "7463   0.043779           False       False       True        0  \n",
       "7484   0.043764           False       False       True        0  \n",
       "12623  0.071964           False       False       True        0  \n",
       "12644  0.072212           False       False       True        0  \n",
       "12665  0.071884           False       False       True        0  \n",
       "12707  0.070604           False       False       True        0  \n",
       "12749  0.072394           False       False       True        0  \n",
       "12770  0.072316           False       False       True        0  \n",
       "12791  0.072311           False       False       True        0  \n",
       "12812  0.068168           False       False       True        0  "
      ]
     },
     "execution_count": 202,
     "metadata": {},
     "output_type": "execute_result"
    }
   ],
   "source": [
    "df[df.Outlier_RM==True]"
   ]
  },
  {
   "cell_type": "code",
   "execution_count": 203,
   "metadata": {
    "collapsed": false,
    "deletable": true,
    "editable": true
   },
   "outputs": [
    {
     "data": {
      "text/plain": [
       "0.9847502700905842"
      ]
     },
     "execution_count": 203,
     "metadata": {},
     "output_type": "execute_result"
    }
   ],
   "source": [
    "j = 0\n",
    "length = len(df)\n",
    "for i in range(len(df)):\n",
    "    idx = df.index[i]\n",
    "    if df.loc[idx,\"Outlier_Verdict\"] == df.loc[idx,\"Outlier_RM\"]:\n",
    "        j = j+1\n",
    "float(j)/float(length)"
   ]
  },
  {
   "cell_type": "code",
   "execution_count": 204,
   "metadata": {
    "collapsed": false,
    "deletable": true,
    "editable": true
   },
   "outputs": [
    {
     "data": {
      "text/plain": [
       "338"
      ]
     },
     "execution_count": 204,
     "metadata": {},
     "output_type": "execute_result"
    }
   ],
   "source": [
    "a = df[(df.Outlier_Verdict == True)]\n",
    "len(a)"
   ]
  },
  {
   "cell_type": "code",
   "execution_count": 205,
   "metadata": {
    "collapsed": false,
    "deletable": true,
    "editable": true
   },
   "outputs": [],
   "source": [
    "df[\"Outlier\"] = df.apply(lambda x: 1 if abs(x['dist']) > 0.22 else 0, axis=1)"
   ]
  },
  {
   "cell_type": "code",
   "execution_count": 211,
   "metadata": {
    "collapsed": false,
    "deletable": true,
    "editable": true,
    "scrolled": false
   },
   "outputs": [
    {
     "data": {
      "text/plain": [
       "<matplotlib.text.Text at 0x7fa1e8e87a10>"
      ]
     },
     "execution_count": 211,
     "metadata": {},
     "output_type": "execute_result"
    },
    {
     "data": {
      "image/png": "[encoded data removed]",
      "text/plain": [
       "<matplotlib.figure.Figure at 0x7fa1e8febd50>"
      ]
     },
     "metadata": {},
     "output_type": "display_data"
    }
   ],
   "source": [
    "%matplotlib inline\n",
    "import matplotlib.pyplot as plt\n",
    "use_colours = {0: \"blue\", 1: \"red\"}\n",
    "#ax.scatter(a,b,c,c=[use_colours[x[0]] for x in df[\"Outlier\"]],s=50)\n",
    "\n",
    "plt.figure(figsize=(16,9))\n",
    "plt.scatter(df.index, df['price'], c=[use_colours[x] for x in df[\"Outlier_Verdict\"]], s=20)\n",
    "plt.xlabel('Index')\n",
    "plt.ylabel('Value')\n",
    "plt.title(\"After Learning\", fontsize=\"20\")\n"
   ]
  },
  {
   "cell_type": "code",
   "execution_count": 192,
   "metadata": {
    "collapsed": false,
    "deletable": true,
    "editable": true
   },
   "outputs": [
    {
     "data": {
      "text/plain": [
       "<matplotlib.text.Text at 0x7fa1e925e790>"
      ]
     },
     "execution_count": 192,
     "metadata": {},
     "output_type": "execute_result"
    },
    {
     "data": {
      "image/png": "[encoded data removed]",
      "text/plain": [
       "<matplotlib.figure.Figure at 0x7fa1e929cfd0>"
      ]
     },
     "metadata": {},
     "output_type": "display_data"
    }
   ],
   "source": [
    "plt.figure(figsize=(10,6))\n",
    "plt.plot(dist)\n",
    "#plt.xlim((0,100))\n",
    "plt.ylim((0,0.8))\n",
    "plt.xlabel('Index')\n",
    "plt.ylabel('Reconstruction error')\n",
    "plt.title(\"Reconstruction error \")"
   ]
  },
  {
   "cell_type": "code",
   "execution_count": 212,
   "metadata": {
    "collapsed": false,
    "deletable": true,
    "editable": true
   },
   "outputs": [
    {
     "data": {
      "text/plain": [
       "<matplotlib.text.Text at 0x7fa1e8e37ed0>"
      ]
     },
     "execution_count": 212,
     "metadata": {},
     "output_type": "execute_result"
    },
    {
     "data": {
      "image/png": "[encoded data removed]",
      "text/plain": [
       "<matplotlib.figure.Figure at 0x7fa1e8ec3650>"
      ]
     },
     "metadata": {},
     "output_type": "display_data"
    }
   ],
   "source": [
    "value = np.array(df[\"price\"])\n",
    "plt.figure(figsize=(10,6))\n",
    "plt.plot(value)\n",
    "\n",
    "#plt.xlim((0,1000))\n",
    "#plt.ylim((0,0.8))\n",
    "plt.xlabel('Index')\n",
    "plt.ylabel('Value')\n",
    "plt.title(\"Distribution of Value \")"
   ]
  }
 ],
 "metadata": {
  "kernelspec": {
   "display_name": "Python 2",
   "language": "python",
   "name": "python2"
  },
  "language_info": {
   "codemirror_mode": {
    "name": "ipython",
    "version": 2
   },
   "file_extension": ".py",
   "mimetype": "text/x-python",
   "name": "python",
   "nbconvert_exporter": "python",
   "pygments_lexer": "ipython2",
   "version": "2.7.6"
  }
 },
 "nbformat": 4,
 "nbformat_minor": 2
}
